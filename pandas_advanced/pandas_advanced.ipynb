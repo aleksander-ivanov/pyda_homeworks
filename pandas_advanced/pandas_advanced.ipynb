{
 "metadata": {
  "language_info": {
   "codemirror_mode": {
    "name": "ipython",
    "version": 3
   },
   "file_extension": ".py",
   "mimetype": "text/x-python",
   "name": "python",
   "nbconvert_exporter": "python",
   "pygments_lexer": "ipython3",
   "version": "3.8.5-final"
  },
  "orig_nbformat": 2,
  "kernelspec": {
   "name": "python3",
   "display_name": "Python 3",
   "language": "python"
  }
 },
 "nbformat": 4,
 "nbformat_minor": 2,
 "cells": [
  {
   "source": [
    "# Домашнее задание к лекции «Продвинутый pandas»"
   ],
   "cell_type": "markdown",
   "metadata": {}
  },
  {
   "source": [
    "### Задание 1\n",
    "Для датафрейма log из материалов занятия создайте столбец source_type по следующим правилам:\n",
    "\n",
    "если источник traffic_source равен yandex или google, то в source_type ставится organic\n",
    "для источников paid и email из России - ставим ad\n",
    "для источников paid и email не из России - ставим other\n",
    "все остальные варианты берем из traffic_source без изменений"
   ],
   "cell_type": "markdown",
   "metadata": {}
  },
  {
   "cell_type": "code",
   "execution_count": 1,
   "metadata": {},
   "outputs": [],
   "source": [
    "import pandas as pd"
   ]
  },
  {
   "cell_type": "code",
   "execution_count": 12,
   "metadata": {},
   "outputs": [
    {
     "output_type": "execute_result",
     "data": {
      "text/plain": [
       "    timestamp    visit_id                                 url  region  \\\n",
       "0  1549980692  e3b0c44298  https://host.ru/3c19b4ef7371864fa3  Russia   \n",
       "1  1549980704  6e340b9cff  https://host.ru/c8d9213a31839f9a3a  Russia   \n",
       "2  1549980715  96a296d224  https://host.ru/b8b58337d272ee7b15  Russia   \n",
       "3  1549980725  709e80c884  https://host.ru/b8b58337d272ee7b15  Russia   \n",
       "4  1549980736  df3f619804  https://host.ru/b8b58337d272ee7b15  Russia   \n",
       "\n",
       "      user_id traffic_source  \n",
       "0  b1613cc09f         yandex  \n",
       "1  4c3ec14bee         direct  \n",
       "2  a8c40697fb         yandex  \n",
       "3  521ac1d6a0         yandex  \n",
       "4  d7323c571c         yandex  "
      ],
      "text/html": "<div>\n<style scoped>\n    .dataframe tbody tr th:only-of-type {\n        vertical-align: middle;\n    }\n\n    .dataframe tbody tr th {\n        vertical-align: top;\n    }\n\n    .dataframe thead th {\n        text-align: right;\n    }\n</style>\n<table border=\"1\" class=\"dataframe\">\n  <thead>\n    <tr style=\"text-align: right;\">\n      <th></th>\n      <th>timestamp</th>\n      <th>visit_id</th>\n      <th>url</th>\n      <th>region</th>\n      <th>user_id</th>\n      <th>traffic_source</th>\n    </tr>\n  </thead>\n  <tbody>\n    <tr>\n      <th>0</th>\n      <td>1549980692</td>\n      <td>e3b0c44298</td>\n      <td>https://host.ru/3c19b4ef7371864fa3</td>\n      <td>Russia</td>\n      <td>b1613cc09f</td>\n      <td>yandex</td>\n    </tr>\n    <tr>\n      <th>1</th>\n      <td>1549980704</td>\n      <td>6e340b9cff</td>\n      <td>https://host.ru/c8d9213a31839f9a3a</td>\n      <td>Russia</td>\n      <td>4c3ec14bee</td>\n      <td>direct</td>\n    </tr>\n    <tr>\n      <th>2</th>\n      <td>1549980715</td>\n      <td>96a296d224</td>\n      <td>https://host.ru/b8b58337d272ee7b15</td>\n      <td>Russia</td>\n      <td>a8c40697fb</td>\n      <td>yandex</td>\n    </tr>\n    <tr>\n      <th>3</th>\n      <td>1549980725</td>\n      <td>709e80c884</td>\n      <td>https://host.ru/b8b58337d272ee7b15</td>\n      <td>Russia</td>\n      <td>521ac1d6a0</td>\n      <td>yandex</td>\n    </tr>\n    <tr>\n      <th>4</th>\n      <td>1549980736</td>\n      <td>df3f619804</td>\n      <td>https://host.ru/b8b58337d272ee7b15</td>\n      <td>Russia</td>\n      <td>d7323c571c</td>\n      <td>yandex</td>\n    </tr>\n  </tbody>\n</table>\n</div>"
     },
     "metadata": {},
     "execution_count": 12
    }
   ],
   "source": [
    "log = pd.read_csv('data/visit_log.csv', sep=';')\n",
    "log.head()"
   ]
  },
  {
   "cell_type": "code",
   "execution_count": 26,
   "metadata": {},
   "outputs": [],
   "source": [
    "def get_source_type(row):\n",
    "    source = row['traffic_source']\n",
    "    region = row['region']\n",
    "\n",
    "    if source == 'yandex' or source == 'google':\n",
    "        return 'organic'\n",
    "    if (source == 'paid' or source == 'email') and region == 'Russia':\n",
    "        return 'ad'\n",
    "    if (source == 'paid' or source == 'email') and not region == 'Russia':\n",
    "        return 'other'\n",
    "    return row['traffic_source']"
   ]
  },
  {
   "cell_type": "code",
   "execution_count": 29,
   "metadata": {
    "tags": []
   },
   "outputs": [
    {
     "output_type": "execute_result",
     "data": {
      "text/plain": [
       "    timestamp    visit_id                                 url  region  \\\n",
       "0  1549980692  e3b0c44298  https://host.ru/3c19b4ef7371864fa3  Russia   \n",
       "1  1549980704  6e340b9cff  https://host.ru/c8d9213a31839f9a3a  Russia   \n",
       "2  1549980715  96a296d224  https://host.ru/b8b58337d272ee7b15  Russia   \n",
       "3  1549980725  709e80c884  https://host.ru/b8b58337d272ee7b15  Russia   \n",
       "4  1549980736  df3f619804  https://host.ru/b8b58337d272ee7b15  Russia   \n",
       "\n",
       "      user_id traffic_source source_type  \n",
       "0  b1613cc09f         yandex     organic  \n",
       "1  4c3ec14bee         direct      direct  \n",
       "2  a8c40697fb         yandex     organic  \n",
       "3  521ac1d6a0         yandex     organic  \n",
       "4  d7323c571c         yandex     organic  "
      ],
      "text/html": "<div>\n<style scoped>\n    .dataframe tbody tr th:only-of-type {\n        vertical-align: middle;\n    }\n\n    .dataframe tbody tr th {\n        vertical-align: top;\n    }\n\n    .dataframe thead th {\n        text-align: right;\n    }\n</style>\n<table border=\"1\" class=\"dataframe\">\n  <thead>\n    <tr style=\"text-align: right;\">\n      <th></th>\n      <th>timestamp</th>\n      <th>visit_id</th>\n      <th>url</th>\n      <th>region</th>\n      <th>user_id</th>\n      <th>traffic_source</th>\n      <th>source_type</th>\n    </tr>\n  </thead>\n  <tbody>\n    <tr>\n      <th>0</th>\n      <td>1549980692</td>\n      <td>e3b0c44298</td>\n      <td>https://host.ru/3c19b4ef7371864fa3</td>\n      <td>Russia</td>\n      <td>b1613cc09f</td>\n      <td>yandex</td>\n      <td>organic</td>\n    </tr>\n    <tr>\n      <th>1</th>\n      <td>1549980704</td>\n      <td>6e340b9cff</td>\n      <td>https://host.ru/c8d9213a31839f9a3a</td>\n      <td>Russia</td>\n      <td>4c3ec14bee</td>\n      <td>direct</td>\n      <td>direct</td>\n    </tr>\n    <tr>\n      <th>2</th>\n      <td>1549980715</td>\n      <td>96a296d224</td>\n      <td>https://host.ru/b8b58337d272ee7b15</td>\n      <td>Russia</td>\n      <td>a8c40697fb</td>\n      <td>yandex</td>\n      <td>organic</td>\n    </tr>\n    <tr>\n      <th>3</th>\n      <td>1549980725</td>\n      <td>709e80c884</td>\n      <td>https://host.ru/b8b58337d272ee7b15</td>\n      <td>Russia</td>\n      <td>521ac1d6a0</td>\n      <td>yandex</td>\n      <td>organic</td>\n    </tr>\n    <tr>\n      <th>4</th>\n      <td>1549980736</td>\n      <td>df3f619804</td>\n      <td>https://host.ru/b8b58337d272ee7b15</td>\n      <td>Russia</td>\n      <td>d7323c571c</td>\n      <td>yandex</td>\n      <td>organic</td>\n    </tr>\n  </tbody>\n</table>\n</div>"
     },
     "metadata": {},
     "execution_count": 29
    }
   ],
   "source": [
    "log['source_type'] = log.apply(get_source_type, axis=1)\n",
    "log.head()\n",
    "\n",
    "# Just for test: check rows where traffic_source not yandex and region not Russia\n",
    "# log.loc[(log.traffic_source != 'yandex') & (log.region != 'Russia')].head(10) "
   ]
  },
  {
   "source": [
    "### Задание 2\n",
    "В файле URLs.txt содержатся url страниц новостного сайта. Вам необходимо отфильтровать его по адресам страниц с текстами новостей. Известно, что шаблон страницы новостей имеет внутри url следующую конструкцию: /, затем 8 цифр, затем дефис. Выполните следующие действия:\n",
    "\n",
    "Прочитайте содержимое файла с датафрейм\n",
    "Отфильтруйте страницы с текстом новостей, используя метод str.contains и регулярное выражение в соответствии с заданным шаблоном"
   ],
   "cell_type": "markdown",
   "metadata": {}
  },
  {
   "cell_type": "code",
   "execution_count": 30,
   "metadata": {},
   "outputs": [
    {
     "output_type": "execute_result",
     "data": {
      "text/plain": [
       "                                                 url\n",
       "0                                            /world/\n",
       "1                                           /latest/\n",
       "2                                      /?updated=top\n",
       "3  /politics/36188461-s-marta-zhizn-rossiyan-susc...\n",
       "4  /world/36007585-tramp-pridumal-kak-reshit-ukra..."
      ],
      "text/html": "<div>\n<style scoped>\n    .dataframe tbody tr th:only-of-type {\n        vertical-align: middle;\n    }\n\n    .dataframe tbody tr th {\n        vertical-align: top;\n    }\n\n    .dataframe thead th {\n        text-align: right;\n    }\n</style>\n<table border=\"1\" class=\"dataframe\">\n  <thead>\n    <tr style=\"text-align: right;\">\n      <th></th>\n      <th>url</th>\n    </tr>\n  </thead>\n  <tbody>\n    <tr>\n      <th>0</th>\n      <td>/world/</td>\n    </tr>\n    <tr>\n      <th>1</th>\n      <td>/latest/</td>\n    </tr>\n    <tr>\n      <th>2</th>\n      <td>/?updated=top</td>\n    </tr>\n    <tr>\n      <th>3</th>\n      <td>/politics/36188461-s-marta-zhizn-rossiyan-susc...</td>\n    </tr>\n    <tr>\n      <th>4</th>\n      <td>/world/36007585-tramp-pridumal-kak-reshit-ukra...</td>\n    </tr>\n  </tbody>\n</table>\n</div>"
     },
     "metadata": {},
     "execution_count": 30
    }
   ],
   "source": [
    "urls = pd.read_csv('data/URLs.txt')\n",
    "urls.head()"
   ]
  },
  {
   "cell_type": "code",
   "execution_count": 36,
   "metadata": {},
   "outputs": [
    {
     "output_type": "execute_result",
     "data": {
      "text/plain": [
       "                                                  url\n",
       "3   /politics/36188461-s-marta-zhizn-rossiyan-susc...\n",
       "4   /world/36007585-tramp-pridumal-kak-reshit-ukra...\n",
       "5   /science/36157853-nasa-sobiraet-ekstrennuyu-pr...\n",
       "6   /video/36001498-poyavilis-pervye-podrobnosti-g...\n",
       "7   /world/36007585-tramp-pridumal-kak-reshit-ukra...\n",
       "10  /middleeast/36131117-divizion-s-400-ne-zametil...\n",
       "11  /economics/36065674-rossiyane-vozmutilis-minim...\n",
       "12  /politics/36118047-otets-24-detey-potreboval-i...\n",
       "13  /travel/36194479-v-sheremetevo-passazhiry-ustr...\n",
       "14  /politics/35638742-nesolidno-mariya-zaharova-s..."
      ],
      "text/html": "<div>\n<style scoped>\n    .dataframe tbody tr th:only-of-type {\n        vertical-align: middle;\n    }\n\n    .dataframe tbody tr th {\n        vertical-align: top;\n    }\n\n    .dataframe thead th {\n        text-align: right;\n    }\n</style>\n<table border=\"1\" class=\"dataframe\">\n  <thead>\n    <tr style=\"text-align: right;\">\n      <th></th>\n      <th>url</th>\n    </tr>\n  </thead>\n  <tbody>\n    <tr>\n      <th>3</th>\n      <td>/politics/36188461-s-marta-zhizn-rossiyan-susc...</td>\n    </tr>\n    <tr>\n      <th>4</th>\n      <td>/world/36007585-tramp-pridumal-kak-reshit-ukra...</td>\n    </tr>\n    <tr>\n      <th>5</th>\n      <td>/science/36157853-nasa-sobiraet-ekstrennuyu-pr...</td>\n    </tr>\n    <tr>\n      <th>6</th>\n      <td>/video/36001498-poyavilis-pervye-podrobnosti-g...</td>\n    </tr>\n    <tr>\n      <th>7</th>\n      <td>/world/36007585-tramp-pridumal-kak-reshit-ukra...</td>\n    </tr>\n    <tr>\n      <th>10</th>\n      <td>/middleeast/36131117-divizion-s-400-ne-zametil...</td>\n    </tr>\n    <tr>\n      <th>11</th>\n      <td>/economics/36065674-rossiyane-vozmutilis-minim...</td>\n    </tr>\n    <tr>\n      <th>12</th>\n      <td>/politics/36118047-otets-24-detey-potreboval-i...</td>\n    </tr>\n    <tr>\n      <th>13</th>\n      <td>/travel/36194479-v-sheremetevo-passazhiry-ustr...</td>\n    </tr>\n    <tr>\n      <th>14</th>\n      <td>/politics/35638742-nesolidno-mariya-zaharova-s...</td>\n    </tr>\n  </tbody>\n</table>\n</div>"
     },
     "metadata": {},
     "execution_count": 36
    }
   ],
   "source": [
    "urls.loc[urls.url.str.contains(r'^.*\\/\\d{8}\\-.*$')].head(10)"
   ]
  },
  {
   "source": [
    "### Задание 3\n",
    "\n",
    "Используйте файл с оценками фильмов ml-latest-small/ratings.csv. Посчитайте среднее время жизни пользователей, которые выставили более 100 оценок. Под временем жизни понимается разница между максимальным и минимальным значением столбца timestamp для данного значения userId."
   ],
   "cell_type": "markdown",
   "metadata": {}
  },
  {
   "cell_type": "code",
   "execution_count": 118,
   "metadata": {},
   "outputs": [
    {
     "output_type": "execute_result",
     "data": {
      "text/plain": [
       "   userId  rating   timestamp\n",
       "0       1     2.5  1260759144\n",
       "1       1     3.0  1260759179\n",
       "2       1     3.0  1260759182\n",
       "3       1     2.0  1260759185\n",
       "4       1     4.0  1260759205"
      ],
      "text/html": "<div>\n<style scoped>\n    .dataframe tbody tr th:only-of-type {\n        vertical-align: middle;\n    }\n\n    .dataframe tbody tr th {\n        vertical-align: top;\n    }\n\n    .dataframe thead th {\n        text-align: right;\n    }\n</style>\n<table border=\"1\" class=\"dataframe\">\n  <thead>\n    <tr style=\"text-align: right;\">\n      <th></th>\n      <th>userId</th>\n      <th>rating</th>\n      <th>timestamp</th>\n    </tr>\n  </thead>\n  <tbody>\n    <tr>\n      <th>0</th>\n      <td>1</td>\n      <td>2.5</td>\n      <td>1260759144</td>\n    </tr>\n    <tr>\n      <th>1</th>\n      <td>1</td>\n      <td>3.0</td>\n      <td>1260759179</td>\n    </tr>\n    <tr>\n      <th>2</th>\n      <td>1</td>\n      <td>3.0</td>\n      <td>1260759182</td>\n    </tr>\n    <tr>\n      <th>3</th>\n      <td>1</td>\n      <td>2.0</td>\n      <td>1260759185</td>\n    </tr>\n    <tr>\n      <th>4</th>\n      <td>1</td>\n      <td>4.0</td>\n      <td>1260759205</td>\n    </tr>\n  </tbody>\n</table>\n</div>"
     },
     "metadata": {},
     "execution_count": 118
    }
   ],
   "source": [
    "ratings = pd.read_csv('data/ratings.csv', usecols=['userId', 'rating', 'timestamp'])\n",
    "ratings.head()"
   ]
  },
  {
   "cell_type": "code",
   "execution_count": 134,
   "metadata": {},
   "outputs": [
    {
     "output_type": "execute_result",
     "data": {
      "text/plain": [
       "        rating  timestamp\n",
       "userId                   \n",
       "4          204     203560\n",
       "8          116      85187\n",
       "15        1700  471393496\n",
       "17         363       8053\n",
       "19         423       5282"
      ],
      "text/html": "<div>\n<style scoped>\n    .dataframe tbody tr th:only-of-type {\n        vertical-align: middle;\n    }\n\n    .dataframe tbody tr th {\n        vertical-align: top;\n    }\n\n    .dataframe thead th {\n        text-align: right;\n    }\n</style>\n<table border=\"1\" class=\"dataframe\">\n  <thead>\n    <tr style=\"text-align: right;\">\n      <th></th>\n      <th>rating</th>\n      <th>timestamp</th>\n    </tr>\n    <tr>\n      <th>userId</th>\n      <th></th>\n      <th></th>\n    </tr>\n  </thead>\n  <tbody>\n    <tr>\n      <th>4</th>\n      <td>204</td>\n      <td>203560</td>\n    </tr>\n    <tr>\n      <th>8</th>\n      <td>116</td>\n      <td>85187</td>\n    </tr>\n    <tr>\n      <th>15</th>\n      <td>1700</td>\n      <td>471393496</td>\n    </tr>\n    <tr>\n      <th>17</th>\n      <td>363</td>\n      <td>8053</td>\n    </tr>\n    <tr>\n      <th>19</th>\n      <td>423</td>\n      <td>5282</td>\n    </tr>\n  </tbody>\n</table>\n</div>"
     },
     "metadata": {},
     "execution_count": 134
    }
   ],
   "source": [
    "result = ratings.groupby('userId').agg({'rating': 'count', 'timestamp': lambda x: (x.max()-x.min())})\n",
    "result.loc[result.rating > 100].head()"
   ]
  },
  {
   "cell_type": "code",
   "execution_count": 135,
   "metadata": {},
   "outputs": [
    {
     "output_type": "execute_result",
     "data": {
      "text/plain": [
       "   client_id  rzd_revenue\n",
       "0        111         1093\n",
       "1        112         2810\n",
       "2        113        10283\n",
       "3        114         5774\n",
       "4        115          981"
      ],
      "text/html": "<div>\n<style scoped>\n    .dataframe tbody tr th:only-of-type {\n        vertical-align: middle;\n    }\n\n    .dataframe tbody tr th {\n        vertical-align: top;\n    }\n\n    .dataframe thead th {\n        text-align: right;\n    }\n</style>\n<table border=\"1\" class=\"dataframe\">\n  <thead>\n    <tr style=\"text-align: right;\">\n      <th></th>\n      <th>client_id</th>\n      <th>rzd_revenue</th>\n    </tr>\n  </thead>\n  <tbody>\n    <tr>\n      <th>0</th>\n      <td>111</td>\n      <td>1093</td>\n    </tr>\n    <tr>\n      <th>1</th>\n      <td>112</td>\n      <td>2810</td>\n    </tr>\n    <tr>\n      <th>2</th>\n      <td>113</td>\n      <td>10283</td>\n    </tr>\n    <tr>\n      <th>3</th>\n      <td>114</td>\n      <td>5774</td>\n    </tr>\n    <tr>\n      <th>4</th>\n      <td>115</td>\n      <td>981</td>\n    </tr>\n  </tbody>\n</table>\n</div>"
     },
     "metadata": {},
     "execution_count": 135
    }
   ],
   "source": [
    "### Задание 4\n",
    "\n",
    "Дана статистика услуг перевозок клиентов компании по типам (см. файл с кодом занятия). Необходимо сформировать две таблицы:\n",
    "таблицу с тремя типами выручки для каждого client_id без указания адреса клиента\n",
    "аналогичную таблицу по типам выручки с указанием адреса клиента\n",
    "Обратите внимание, что в процессе объединения таблиц данные не должны теряться.\n",
    "\n",
    "rzd - железнодорожные перевозки\n",
    "auto - автомобильные перевозки\n",
    "air - воздушные перевозки\n",
    "client_base - адреса клиентов"
   ]
  },
  {
   "source": [
    "rzd = pd.DataFrame(\n",
    "    {\n",
    "        'client_id': [111, 112, 113, 114, 115],\n",
    "        'rzd_revenue': [1093, 2810, 10283, 5774, 981]\n",
    "    }\n",
    ")\n",
    "\n",
    "rzd"
   ],
   "cell_type": "markdown",
   "metadata": {}
  },
  {
   "cell_type": "code",
   "execution_count": 136,
   "metadata": {},
   "outputs": [
    {
     "output_type": "execute_result",
     "data": {
      "text/plain": [
       "   client_id  auto_revenue\n",
       "0        113         57483\n",
       "1        114            83\n",
       "2        115           912\n",
       "3        116          4834\n",
       "4        117            98"
      ],
      "text/html": "<div>\n<style scoped>\n    .dataframe tbody tr th:only-of-type {\n        vertical-align: middle;\n    }\n\n    .dataframe tbody tr th {\n        vertical-align: top;\n    }\n\n    .dataframe thead th {\n        text-align: right;\n    }\n</style>\n<table border=\"1\" class=\"dataframe\">\n  <thead>\n    <tr style=\"text-align: right;\">\n      <th></th>\n      <th>client_id</th>\n      <th>auto_revenue</th>\n    </tr>\n  </thead>\n  <tbody>\n    <tr>\n      <th>0</th>\n      <td>113</td>\n      <td>57483</td>\n    </tr>\n    <tr>\n      <th>1</th>\n      <td>114</td>\n      <td>83</td>\n    </tr>\n    <tr>\n      <th>2</th>\n      <td>115</td>\n      <td>912</td>\n    </tr>\n    <tr>\n      <th>3</th>\n      <td>116</td>\n      <td>4834</td>\n    </tr>\n    <tr>\n      <th>4</th>\n      <td>117</td>\n      <td>98</td>\n    </tr>\n  </tbody>\n</table>\n</div>"
     },
     "metadata": {},
     "execution_count": 136
    }
   ],
   "source": [
    "auto = pd.DataFrame(\n",
    "    {\n",
    "        'client_id': [113, 114, 115, 116, 117],\n",
    "        'auto_revenue': [57483, 83, 912, 4834, 98]\n",
    "    }\n",
    ")\n",
    "\n",
    "auto"
   ]
  },
  {
   "cell_type": "code",
   "execution_count": 137,
   "metadata": {},
   "outputs": [
    {
     "output_type": "execute_result",
     "data": {
      "text/plain": [
       "   client_id  air_revenue\n",
       "0        115           81\n",
       "1        116            4\n",
       "2        117           13\n",
       "3        118          173"
      ],
      "text/html": "<div>\n<style scoped>\n    .dataframe tbody tr th:only-of-type {\n        vertical-align: middle;\n    }\n\n    .dataframe tbody tr th {\n        vertical-align: top;\n    }\n\n    .dataframe thead th {\n        text-align: right;\n    }\n</style>\n<table border=\"1\" class=\"dataframe\">\n  <thead>\n    <tr style=\"text-align: right;\">\n      <th></th>\n      <th>client_id</th>\n      <th>air_revenue</th>\n    </tr>\n  </thead>\n  <tbody>\n    <tr>\n      <th>0</th>\n      <td>115</td>\n      <td>81</td>\n    </tr>\n    <tr>\n      <th>1</th>\n      <td>116</td>\n      <td>4</td>\n    </tr>\n    <tr>\n      <th>2</th>\n      <td>117</td>\n      <td>13</td>\n    </tr>\n    <tr>\n      <th>3</th>\n      <td>118</td>\n      <td>173</td>\n    </tr>\n  </tbody>\n</table>\n</div>"
     },
     "metadata": {},
     "execution_count": 137
    }
   ],
   "source": [
    "air = pd.DataFrame(\n",
    "    {\n",
    "        'client_id': [115, 116, 117, 118],\n",
    "        'air_revenue': [81, 4, 13, 173]\n",
    "    }\n",
    ")\n",
    "\n",
    "air"
   ]
  },
  {
   "cell_type": "code",
   "execution_count": 138,
   "metadata": {},
   "outputs": [
    {
     "output_type": "execute_result",
     "data": {
      "text/plain": [
       "   client_id          address\n",
       "0        111  Комсомольская 4\n",
       "1        112   Энтузиастов 8а\n",
       "2        113  Левобережная 1а\n",
       "3        114          Мира 14\n",
       "4        115        ЗЖБИиДК 1\n",
       "5        116    Строителей 18\n",
       "6        117  Панфиловская 33\n",
       "7        118     Мастеркова 4"
      ],
      "text/html": "<div>\n<style scoped>\n    .dataframe tbody tr th:only-of-type {\n        vertical-align: middle;\n    }\n\n    .dataframe tbody tr th {\n        vertical-align: top;\n    }\n\n    .dataframe thead th {\n        text-align: right;\n    }\n</style>\n<table border=\"1\" class=\"dataframe\">\n  <thead>\n    <tr style=\"text-align: right;\">\n      <th></th>\n      <th>client_id</th>\n      <th>address</th>\n    </tr>\n  </thead>\n  <tbody>\n    <tr>\n      <th>0</th>\n      <td>111</td>\n      <td>Комсомольская 4</td>\n    </tr>\n    <tr>\n      <th>1</th>\n      <td>112</td>\n      <td>Энтузиастов 8а</td>\n    </tr>\n    <tr>\n      <th>2</th>\n      <td>113</td>\n      <td>Левобережная 1а</td>\n    </tr>\n    <tr>\n      <th>3</th>\n      <td>114</td>\n      <td>Мира 14</td>\n    </tr>\n    <tr>\n      <th>4</th>\n      <td>115</td>\n      <td>ЗЖБИиДК 1</td>\n    </tr>\n    <tr>\n      <th>5</th>\n      <td>116</td>\n      <td>Строителей 18</td>\n    </tr>\n    <tr>\n      <th>6</th>\n      <td>117</td>\n      <td>Панфиловская 33</td>\n    </tr>\n    <tr>\n      <th>7</th>\n      <td>118</td>\n      <td>Мастеркова 4</td>\n    </tr>\n  </tbody>\n</table>\n</div>"
     },
     "metadata": {},
     "execution_count": 138
    }
   ],
   "source": [
    "client_base = pd.DataFrame(\n",
    "    {\n",
    "        'client_id': [111, 112, 113, 114, 115, 116, 117, 118],\n",
    "        'address': ['Комсомольская 4', 'Энтузиастов 8а', 'Левобережная 1а', 'Мира 14', 'ЗЖБИиДК 1', \n",
    "                    'Строителей 18', 'Панфиловская 33', 'Мастеркова 4']\n",
    "    }\n",
    ")\n",
    "\n",
    "client_base"
   ]
  },
  {
   "cell_type": "code",
   "execution_count": 151,
   "metadata": {},
   "outputs": [
    {
     "output_type": "execute_result",
     "data": {
      "text/plain": [
       "   client_id  rzd_revenue  auto_revenue  air_revenue\n",
       "0        111       1093.0           0.0          0.0\n",
       "1        112       2810.0           0.0          0.0\n",
       "2        113      10283.0       57483.0          0.0\n",
       "3        114       5774.0          83.0          0.0\n",
       "4        115        981.0         912.0         81.0\n",
       "5        116          0.0        4834.0          4.0\n",
       "6        117          0.0          98.0         13.0\n",
       "7        118          0.0           0.0        173.0"
      ],
      "text/html": "<div>\n<style scoped>\n    .dataframe tbody tr th:only-of-type {\n        vertical-align: middle;\n    }\n\n    .dataframe tbody tr th {\n        vertical-align: top;\n    }\n\n    .dataframe thead th {\n        text-align: right;\n    }\n</style>\n<table border=\"1\" class=\"dataframe\">\n  <thead>\n    <tr style=\"text-align: right;\">\n      <th></th>\n      <th>client_id</th>\n      <th>rzd_revenue</th>\n      <th>auto_revenue</th>\n      <th>air_revenue</th>\n    </tr>\n  </thead>\n  <tbody>\n    <tr>\n      <th>0</th>\n      <td>111</td>\n      <td>1093.0</td>\n      <td>0.0</td>\n      <td>0.0</td>\n    </tr>\n    <tr>\n      <th>1</th>\n      <td>112</td>\n      <td>2810.0</td>\n      <td>0.0</td>\n      <td>0.0</td>\n    </tr>\n    <tr>\n      <th>2</th>\n      <td>113</td>\n      <td>10283.0</td>\n      <td>57483.0</td>\n      <td>0.0</td>\n    </tr>\n    <tr>\n      <th>3</th>\n      <td>114</td>\n      <td>5774.0</td>\n      <td>83.0</td>\n      <td>0.0</td>\n    </tr>\n    <tr>\n      <th>4</th>\n      <td>115</td>\n      <td>981.0</td>\n      <td>912.0</td>\n      <td>81.0</td>\n    </tr>\n    <tr>\n      <th>5</th>\n      <td>116</td>\n      <td>0.0</td>\n      <td>4834.0</td>\n      <td>4.0</td>\n    </tr>\n    <tr>\n      <th>6</th>\n      <td>117</td>\n      <td>0.0</td>\n      <td>98.0</td>\n      <td>13.0</td>\n    </tr>\n    <tr>\n      <th>7</th>\n      <td>118</td>\n      <td>0.0</td>\n      <td>0.0</td>\n      <td>173.0</td>\n    </tr>\n  </tbody>\n</table>\n</div>"
     },
     "metadata": {},
     "execution_count": 151
    }
   ],
   "source": [
    "df = pd.merge(rzd, auto, how='outer')\n",
    "df = pd.merge(df, air, how='outer')\n",
    "df.fillna(0, inplace=True)\n",
    "df"
   ]
  },
  {
   "cell_type": "code",
   "execution_count": 157,
   "metadata": {},
   "outputs": [
    {
     "output_type": "execute_result",
     "data": {
      "text/plain": [
       "   client_id  rzd_revenue  auto_revenue  air_revenue          address\n",
       "0        111       1093.0           0.0          0.0  Комсомольская 4\n",
       "1        112       2810.0           0.0          0.0   Энтузиастов 8а\n",
       "2        113      10283.0       57483.0          0.0  Левобережная 1а\n",
       "3        114       5774.0          83.0          0.0          Мира 14\n",
       "4        115        981.0         912.0         81.0        ЗЖБИиДК 1\n",
       "5        116          0.0        4834.0          4.0    Строителей 18\n",
       "6        117          0.0          98.0         13.0  Панфиловская 33\n",
       "7        118          0.0           0.0        173.0     Мастеркова 4"
      ],
      "text/html": "<div>\n<style scoped>\n    .dataframe tbody tr th:only-of-type {\n        vertical-align: middle;\n    }\n\n    .dataframe tbody tr th {\n        vertical-align: top;\n    }\n\n    .dataframe thead th {\n        text-align: right;\n    }\n</style>\n<table border=\"1\" class=\"dataframe\">\n  <thead>\n    <tr style=\"text-align: right;\">\n      <th></th>\n      <th>client_id</th>\n      <th>rzd_revenue</th>\n      <th>auto_revenue</th>\n      <th>air_revenue</th>\n      <th>address</th>\n    </tr>\n  </thead>\n  <tbody>\n    <tr>\n      <th>0</th>\n      <td>111</td>\n      <td>1093.0</td>\n      <td>0.0</td>\n      <td>0.0</td>\n      <td>Комсомольская 4</td>\n    </tr>\n    <tr>\n      <th>1</th>\n      <td>112</td>\n      <td>2810.0</td>\n      <td>0.0</td>\n      <td>0.0</td>\n      <td>Энтузиастов 8а</td>\n    </tr>\n    <tr>\n      <th>2</th>\n      <td>113</td>\n      <td>10283.0</td>\n      <td>57483.0</td>\n      <td>0.0</td>\n      <td>Левобережная 1а</td>\n    </tr>\n    <tr>\n      <th>3</th>\n      <td>114</td>\n      <td>5774.0</td>\n      <td>83.0</td>\n      <td>0.0</td>\n      <td>Мира 14</td>\n    </tr>\n    <tr>\n      <th>4</th>\n      <td>115</td>\n      <td>981.0</td>\n      <td>912.0</td>\n      <td>81.0</td>\n      <td>ЗЖБИиДК 1</td>\n    </tr>\n    <tr>\n      <th>5</th>\n      <td>116</td>\n      <td>0.0</td>\n      <td>4834.0</td>\n      <td>4.0</td>\n      <td>Строителей 18</td>\n    </tr>\n    <tr>\n      <th>6</th>\n      <td>117</td>\n      <td>0.0</td>\n      <td>98.0</td>\n      <td>13.0</td>\n      <td>Панфиловская 33</td>\n    </tr>\n    <tr>\n      <th>7</th>\n      <td>118</td>\n      <td>0.0</td>\n      <td>0.0</td>\n      <td>173.0</td>\n      <td>Мастеркова 4</td>\n    </tr>\n  </tbody>\n</table>\n</div>"
     },
     "metadata": {},
     "execution_count": 157
    }
   ],
   "source": [
    "df.merge(client_base)"
   ]
  },
  {
   "cell_type": "code",
   "execution_count": null,
   "metadata": {},
   "outputs": [],
   "source": []
  }
 ]
}