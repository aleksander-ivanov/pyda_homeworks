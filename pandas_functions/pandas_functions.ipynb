{
 "metadata": {
  "language_info": {
   "codemirror_mode": {
    "name": "ipython",
    "version": 3
   },
   "file_extension": ".py",
   "mimetype": "text/x-python",
   "name": "python",
   "nbconvert_exporter": "python",
   "pygments_lexer": "ipython3",
   "version": "3.8.5-final"
  },
  "orig_nbformat": 2,
  "kernelspec": {
   "name": "python3",
   "display_name": "Python 3",
   "language": "python"
  }
 },
 "nbformat": 4,
 "nbformat_minor": 2,
 "cells": [
  {
   "source": [
    "# Домашнее задание «Функции и работа с данными»"
   ],
   "cell_type": "markdown",
   "metadata": {}
  },
  {
   "source": [
    "### Задание 1**\n",
    "Напишите функцию, которая классифицирует фильмы из материалов занятия по следующим правилам:\n",
    "- оценка 2 и меньше - низкий рейтинг\n",
    "- оценка 4 и меньше - средний рейтинг\n",
    "- оценка 4.5 и 5 - высокий рейтинг\n",
    "\n",
    "Результат классификации запишите в столбец class"
   ],
   "cell_type": "markdown",
   "metadata": {}
  },
  {
   "cell_type": "code",
   "execution_count": 1,
   "metadata": {},
   "outputs": [],
   "source": [
    "import pandas as pd"
   ]
  },
  {
   "cell_type": "code",
   "execution_count": 3,
   "metadata": {},
   "outputs": [
    {
     "output_type": "execute_result",
     "data": {
      "text/plain": [
       "   userId  movieId  rating   timestamp\n",
       "0       1       31     2.5  1260759144\n",
       "1       1     1029     3.0  1260759179\n",
       "2       1     1061     3.0  1260759182\n",
       "3       1     1129     2.0  1260759185\n",
       "4       1     1172     4.0  1260759205"
      ],
      "text/html": "<div>\n<style scoped>\n    .dataframe tbody tr th:only-of-type {\n        vertical-align: middle;\n    }\n\n    .dataframe tbody tr th {\n        vertical-align: top;\n    }\n\n    .dataframe thead th {\n        text-align: right;\n    }\n</style>\n<table border=\"1\" class=\"dataframe\">\n  <thead>\n    <tr style=\"text-align: right;\">\n      <th></th>\n      <th>userId</th>\n      <th>movieId</th>\n      <th>rating</th>\n      <th>timestamp</th>\n    </tr>\n  </thead>\n  <tbody>\n    <tr>\n      <th>0</th>\n      <td>1</td>\n      <td>31</td>\n      <td>2.5</td>\n      <td>1260759144</td>\n    </tr>\n    <tr>\n      <th>1</th>\n      <td>1</td>\n      <td>1029</td>\n      <td>3.0</td>\n      <td>1260759179</td>\n    </tr>\n    <tr>\n      <th>2</th>\n      <td>1</td>\n      <td>1061</td>\n      <td>3.0</td>\n      <td>1260759182</td>\n    </tr>\n    <tr>\n      <th>3</th>\n      <td>1</td>\n      <td>1129</td>\n      <td>2.0</td>\n      <td>1260759185</td>\n    </tr>\n    <tr>\n      <th>4</th>\n      <td>1</td>\n      <td>1172</td>\n      <td>4.0</td>\n      <td>1260759205</td>\n    </tr>\n  </tbody>\n</table>\n</div>"
     },
     "metadata": {},
     "execution_count": 3
    }
   ],
   "source": [
    "ratings_df = pd.read_csv('data/ratings.csv')\n",
    "ratings_df.head()"
   ]
  },
  {
   "cell_type": "code",
   "execution_count": 5,
   "metadata": {},
   "outputs": [],
   "source": [
    "def classification(rating):\n",
    "    if rating <= 2:\n",
    "        return 'low'\n",
    "    elif rating <= 4:\n",
    "        return 'middle'\n",
    "    else:\n",
    "        return 'high'\n"
   ]
  },
  {
   "cell_type": "code",
   "execution_count": 6,
   "metadata": {},
   "outputs": [
    {
     "output_type": "execute_result",
     "data": {
      "text/plain": [
       "   userId  movieId  rating   timestamp   class\n",
       "0       1       31     2.5  1260759144  middle\n",
       "1       1     1029     3.0  1260759179  middle\n",
       "2       1     1061     3.0  1260759182  middle\n",
       "3       1     1129     2.0  1260759185     low\n",
       "4       1     1172     4.0  1260759205  middle"
      ],
      "text/html": "<div>\n<style scoped>\n    .dataframe tbody tr th:only-of-type {\n        vertical-align: middle;\n    }\n\n    .dataframe tbody tr th {\n        vertical-align: top;\n    }\n\n    .dataframe thead th {\n        text-align: right;\n    }\n</style>\n<table border=\"1\" class=\"dataframe\">\n  <thead>\n    <tr style=\"text-align: right;\">\n      <th></th>\n      <th>userId</th>\n      <th>movieId</th>\n      <th>rating</th>\n      <th>timestamp</th>\n      <th>class</th>\n    </tr>\n  </thead>\n  <tbody>\n    <tr>\n      <th>0</th>\n      <td>1</td>\n      <td>31</td>\n      <td>2.5</td>\n      <td>1260759144</td>\n      <td>middle</td>\n    </tr>\n    <tr>\n      <th>1</th>\n      <td>1</td>\n      <td>1029</td>\n      <td>3.0</td>\n      <td>1260759179</td>\n      <td>middle</td>\n    </tr>\n    <tr>\n      <th>2</th>\n      <td>1</td>\n      <td>1061</td>\n      <td>3.0</td>\n      <td>1260759182</td>\n      <td>middle</td>\n    </tr>\n    <tr>\n      <th>3</th>\n      <td>1</td>\n      <td>1129</td>\n      <td>2.0</td>\n      <td>1260759185</td>\n      <td>low</td>\n    </tr>\n    <tr>\n      <th>4</th>\n      <td>1</td>\n      <td>1172</td>\n      <td>4.0</td>\n      <td>1260759205</td>\n      <td>middle</td>\n    </tr>\n  </tbody>\n</table>\n</div>"
     },
     "metadata": {},
     "execution_count": 6
    }
   ],
   "source": [
    "ratings_df['class'] = ratings_df['rating'].apply(classification)\n",
    "ratings_df.head()"
   ]
  },
  {
   "source": [
    "### Задание 2\n",
    "Используем файл keywords.csv.\n",
    "\n",
    "Необходимо написать гео-классификатор, который каждой строке сможет выставить географическую принадлежность определенному региону. Т. е. если поисковый запрос содержит название города региона, то в столбце ‘region’ пишется название этого региона. Если поисковый запрос не содержит названия города, то ставим ‘undefined’.\n",
    "\n",
    "Результат классификации запишите в отдельный столбец region.\n",
    "\n"
   ],
   "cell_type": "markdown",
   "metadata": {}
  },
  {
   "cell_type": "code",
   "execution_count": 11,
   "metadata": {},
   "outputs": [],
   "source": [
    "# Правила распределения по регионам Центр, Северо-Запад и Дальний Восток:\n",
    "\n",
    "geo_data = {\n",
    "'Центр': ['москва', 'тула', 'ярославль'],\n",
    "'Северо-Запад': ['петербург', 'псков', 'мурманск'],\n",
    "'Дальний Восток': ['владивосток', 'сахалин', 'хабаровск']\n",
    "}"
   ]
  },
  {
   "cell_type": "code",
   "execution_count": 12,
   "metadata": {},
   "outputs": [
    {
     "output_type": "execute_result",
     "data": {
      "text/plain": [
       "         keyword     shows\n",
       "0             вк  64292779\n",
       "1  одноклассники  63810309\n",
       "2          порно  41747114\n",
       "3           ютуб  39995567\n",
       "4      вконтакте  21014195"
      ],
      "text/html": "<div>\n<style scoped>\n    .dataframe tbody tr th:only-of-type {\n        vertical-align: middle;\n    }\n\n    .dataframe tbody tr th {\n        vertical-align: top;\n    }\n\n    .dataframe thead th {\n        text-align: right;\n    }\n</style>\n<table border=\"1\" class=\"dataframe\">\n  <thead>\n    <tr style=\"text-align: right;\">\n      <th></th>\n      <th>keyword</th>\n      <th>shows</th>\n    </tr>\n  </thead>\n  <tbody>\n    <tr>\n      <th>0</th>\n      <td>вк</td>\n      <td>64292779</td>\n    </tr>\n    <tr>\n      <th>1</th>\n      <td>одноклассники</td>\n      <td>63810309</td>\n    </tr>\n    <tr>\n      <th>2</th>\n      <td>порно</td>\n      <td>41747114</td>\n    </tr>\n    <tr>\n      <th>3</th>\n      <td>ютуб</td>\n      <td>39995567</td>\n    </tr>\n    <tr>\n      <th>4</th>\n      <td>вконтакте</td>\n      <td>21014195</td>\n    </tr>\n  </tbody>\n</table>\n</div>"
     },
     "metadata": {},
     "execution_count": 12
    }
   ],
   "source": [
    "keywords_df = pd.read_csv('data/keywords.csv')\n",
    "keywords_df.head()"
   ]
  },
  {
   "cell_type": "code",
   "execution_count": 13,
   "metadata": {},
   "outputs": [],
   "source": [
    "def get_region(query):\n",
    "    for k, v in geo_data.items():\n",
    "        for city in v:\n",
    "            if city in query:\n",
    "                return k\n",
    "    return 'undefined'\n"
   ]
  },
  {
   "cell_type": "code",
   "execution_count": 16,
   "metadata": {},
   "outputs": [
    {
     "output_type": "execute_result",
     "data": {
      "text/plain": [
       "                        keyword   shows          region\n",
       "127                авито москва  979292           Центр\n",
       "370    авито ру санкт петербург  425134    Северо-Запад\n",
       "564   погода в санкт петербурге  292489    Северо-Запад\n",
       "849             авито ярославль  209581           Центр\n",
       "1063        фарпост владивосток  176951  Дальний Восток"
      ],
      "text/html": "<div>\n<style scoped>\n    .dataframe tbody tr th:only-of-type {\n        vertical-align: middle;\n    }\n\n    .dataframe tbody tr th {\n        vertical-align: top;\n    }\n\n    .dataframe thead th {\n        text-align: right;\n    }\n</style>\n<table border=\"1\" class=\"dataframe\">\n  <thead>\n    <tr style=\"text-align: right;\">\n      <th></th>\n      <th>keyword</th>\n      <th>shows</th>\n      <th>region</th>\n    </tr>\n  </thead>\n  <tbody>\n    <tr>\n      <th>127</th>\n      <td>авито москва</td>\n      <td>979292</td>\n      <td>Центр</td>\n    </tr>\n    <tr>\n      <th>370</th>\n      <td>авито ру санкт петербург</td>\n      <td>425134</td>\n      <td>Северо-Запад</td>\n    </tr>\n    <tr>\n      <th>564</th>\n      <td>погода в санкт петербурге</td>\n      <td>292489</td>\n      <td>Северо-Запад</td>\n    </tr>\n    <tr>\n      <th>849</th>\n      <td>авито ярославль</td>\n      <td>209581</td>\n      <td>Центр</td>\n    </tr>\n    <tr>\n      <th>1063</th>\n      <td>фарпост владивосток</td>\n      <td>176951</td>\n      <td>Дальний Восток</td>\n    </tr>\n  </tbody>\n</table>\n</div>"
     },
     "metadata": {},
     "execution_count": 16
    }
   ],
   "source": [
    "keywords_df['region'] = keywords_df['keyword'].apply(get_region)\n",
    "# keywords_df.head()\n",
    "keywords_df[keywords_df.region != 'undefined'].head()\n"
   ]
  },
  {
   "source": [
    "### Задание 3 (бонусное)\n",
    "\n",
    "Есть мнение, что “раньше снимали настоящее кино, не то что сейчас”. Ваша задача проверить это утверждение, используя файлы с рейтингами фильмов из прошлого домашнего занятия (файл movies.csv и ratings.csv из базы https://grouplens.org/datasets/movielens). Т. е. проверить верно ли, что с ростом года выпуска фильма его средний рейтинг становится ниже.\n",
    "\n",
    "При этом мы не будем затрагивать субьективные факторы выставления этих рейтингов, а пройдемся по следующему алгоритму:\n",
    "\n",
    "В переменную years запишите список из всех годов с 1950 по 2010.\n",
    "\n",
    "Напишите функцию production_year, которая каждой строке из названия фильма выставляет год выпуска. Не все названия фильмов содержат год выпуска в одинаковом формате, поэтому используйте следующий алгоритм:\n",
    "\n",
    "для каждой строки пройдите по всем годам списка years\n",
    "если номер года присутствует в названии фильма, то функция возвращает этот год как год выпуска\n",
    "если ни один из номеров года списка years не встретился в названии фильма, то возвращается 1900 год\n",
    "Запишите год выпуска фильма по алгоритму пункта 2 в новый столбец ‘year’\n",
    "\n",
    "Посчитайте средний рейтинг всех фильмов для каждого значения столбца ‘year’ и отсортируйте результат по убыванию рейтинга"
   ],
   "cell_type": "markdown",
   "metadata": {}
  },
  {
   "cell_type": "code",
   "execution_count": 108,
   "metadata": {},
   "outputs": [],
   "source": [
    "years = list(range(1950,2011))\n",
    "movies_df = pd.read_csv('data/movies.csv', usecols=['movieId', 'title'])\n",
    "ratings_df = pd.read_csv('data/ratings.csv', usecols=['movieId', 'rating'])"
   ]
  },
  {
   "cell_type": "code",
   "execution_count": 92,
   "metadata": {},
   "outputs": [],
   "source": [
    "# Лектору: Как вариант, в этой задаче можно использовать regex\n",
    "# import re\n",
    "\n",
    "# def production_year(title):\n",
    "#     pattern = r'.\\((\\d{4}).*\\)'\n",
    "#     result = re.findall(pattern, title)\n",
    "#     return 1900 if not result else result[0]\n",
    "\n",
    "# # get_year fn test\n",
    "# assert production_year('Toy Story (1995)') == '1995'\n",
    "# assert production_year('Big Bang Theory, The (2007-)') == '2007'\n",
    "# assert production_year('Fawlty Towers (1975-1979)') == '1975'"
   ]
  },
  {
   "cell_type": "code",
   "execution_count": 109,
   "metadata": {},
   "outputs": [],
   "source": [
    "def production_year(row):\n",
    "    for year in years:\n",
    "        if str(year) in row['title']:\n",
    "            return year\n",
    "    return 1900"
   ]
  },
  {
   "cell_type": "code",
   "execution_count": 110,
   "metadata": {},
   "outputs": [
    {
     "output_type": "execute_result",
     "data": {
      "text/plain": [
       "   movieId                               title  year\n",
       "0        1                    Toy Story (1995)  1995\n",
       "1        2                      Jumanji (1995)  1995\n",
       "2        3             Grumpier Old Men (1995)  1995\n",
       "3        4            Waiting to Exhale (1995)  1995\n",
       "4        5  Father of the Bride Part II (1995)  1995"
      ],
      "text/html": "<div>\n<style scoped>\n    .dataframe tbody tr th:only-of-type {\n        vertical-align: middle;\n    }\n\n    .dataframe tbody tr th {\n        vertical-align: top;\n    }\n\n    .dataframe thead th {\n        text-align: right;\n    }\n</style>\n<table border=\"1\" class=\"dataframe\">\n  <thead>\n    <tr style=\"text-align: right;\">\n      <th></th>\n      <th>movieId</th>\n      <th>title</th>\n      <th>year</th>\n    </tr>\n  </thead>\n  <tbody>\n    <tr>\n      <th>0</th>\n      <td>1</td>\n      <td>Toy Story (1995)</td>\n      <td>1995</td>\n    </tr>\n    <tr>\n      <th>1</th>\n      <td>2</td>\n      <td>Jumanji (1995)</td>\n      <td>1995</td>\n    </tr>\n    <tr>\n      <th>2</th>\n      <td>3</td>\n      <td>Grumpier Old Men (1995)</td>\n      <td>1995</td>\n    </tr>\n    <tr>\n      <th>3</th>\n      <td>4</td>\n      <td>Waiting to Exhale (1995)</td>\n      <td>1995</td>\n    </tr>\n    <tr>\n      <th>4</th>\n      <td>5</td>\n      <td>Father of the Bride Part II (1995)</td>\n      <td>1995</td>\n    </tr>\n  </tbody>\n</table>\n</div>"
     },
     "metadata": {},
     "execution_count": 110
    }
   ],
   "source": [
    "\n",
    "# add year column\n",
    "movies_df['year'] = movies_df.apply(production_year, axis=1).astype(int) \n",
    "movies_df.head()"
   ]
  },
  {
   "cell_type": "code",
   "execution_count": 111,
   "metadata": {},
   "outputs": [
    {
     "output_type": "execute_result",
     "data": {
      "text/plain": [
       "   movieId  rating\n",
       "0       31     2.5\n",
       "1     1029     3.0\n",
       "2     1061     3.0\n",
       "3     1129     2.0\n",
       "4     1172     4.0"
      ],
      "text/html": "<div>\n<style scoped>\n    .dataframe tbody tr th:only-of-type {\n        vertical-align: middle;\n    }\n\n    .dataframe tbody tr th {\n        vertical-align: top;\n    }\n\n    .dataframe thead th {\n        text-align: right;\n    }\n</style>\n<table border=\"1\" class=\"dataframe\">\n  <thead>\n    <tr style=\"text-align: right;\">\n      <th></th>\n      <th>movieId</th>\n      <th>rating</th>\n    </tr>\n  </thead>\n  <tbody>\n    <tr>\n      <th>0</th>\n      <td>31</td>\n      <td>2.5</td>\n    </tr>\n    <tr>\n      <th>1</th>\n      <td>1029</td>\n      <td>3.0</td>\n    </tr>\n    <tr>\n      <th>2</th>\n      <td>1061</td>\n      <td>3.0</td>\n    </tr>\n    <tr>\n      <th>3</th>\n      <td>1129</td>\n      <td>2.0</td>\n    </tr>\n    <tr>\n      <th>4</th>\n      <td>1172</td>\n      <td>4.0</td>\n    </tr>\n  </tbody>\n</table>\n</div>"
     },
     "metadata": {},
     "execution_count": 111
    }
   ],
   "source": [
    "ratings_df.head()"
   ]
  },
  {
   "cell_type": "code",
   "execution_count": 112,
   "metadata": {},
   "outputs": [
    {
     "output_type": "execute_result",
     "data": {
      "text/plain": [
       "   movieId  rating                                           title  year\n",
       "0       31     2.5                          Dangerous Minds (1995)  1995\n",
       "1     1029     3.0                                    Dumbo (1941)  1900\n",
       "2     1061     3.0                                 Sleepers (1996)  1996\n",
       "3     1129     2.0                     Escape from New York (1981)  1981\n",
       "4     1172     4.0  Cinema Paradiso (Nuovo cinema Paradiso) (1989)  1989"
      ],
      "text/html": "<div>\n<style scoped>\n    .dataframe tbody tr th:only-of-type {\n        vertical-align: middle;\n    }\n\n    .dataframe tbody tr th {\n        vertical-align: top;\n    }\n\n    .dataframe thead th {\n        text-align: right;\n    }\n</style>\n<table border=\"1\" class=\"dataframe\">\n  <thead>\n    <tr style=\"text-align: right;\">\n      <th></th>\n      <th>movieId</th>\n      <th>rating</th>\n      <th>title</th>\n      <th>year</th>\n    </tr>\n  </thead>\n  <tbody>\n    <tr>\n      <th>0</th>\n      <td>31</td>\n      <td>2.5</td>\n      <td>Dangerous Minds (1995)</td>\n      <td>1995</td>\n    </tr>\n    <tr>\n      <th>1</th>\n      <td>1029</td>\n      <td>3.0</td>\n      <td>Dumbo (1941)</td>\n      <td>1900</td>\n    </tr>\n    <tr>\n      <th>2</th>\n      <td>1061</td>\n      <td>3.0</td>\n      <td>Sleepers (1996)</td>\n      <td>1996</td>\n    </tr>\n    <tr>\n      <th>3</th>\n      <td>1129</td>\n      <td>2.0</td>\n      <td>Escape from New York (1981)</td>\n      <td>1981</td>\n    </tr>\n    <tr>\n      <th>4</th>\n      <td>1172</td>\n      <td>4.0</td>\n      <td>Cinema Paradiso (Nuovo cinema Paradiso) (1989)</td>\n      <td>1989</td>\n    </tr>\n  </tbody>\n</table>\n</div>"
     },
     "metadata": {},
     "execution_count": 112
    }
   ],
   "source": [
    "merged_movies_df = ratings_df.merge(movies_df, on='movieId', how='left')\n",
    "merged_movies_df.head()"
   ]
  },
  {
   "cell_type": "code",
   "execution_count": 120,
   "metadata": {},
   "outputs": [
    {
     "output_type": "execute_result",
     "data": {
      "text/plain": [
       "           movieId    rating\n",
       "year                        \n",
       "1900  65545.252419  3.602960\n",
       "1950   3503.427966  3.915254\n",
       "1951   2605.588477  3.983539\n",
       "1952   4107.796053  4.000000\n",
       "1953   4032.321101  3.754587\n",
       "1954   2867.661850  3.994220\n",
       "1955   4925.548276  3.751724\n",
       "1956   5645.423529  3.617647\n",
       "1957   2750.965190  4.014241\n",
       "1958   2574.500000  3.823171"
      ],
      "text/html": "<div>\n<style scoped>\n    .dataframe tbody tr th:only-of-type {\n        vertical-align: middle;\n    }\n\n    .dataframe tbody tr th {\n        vertical-align: top;\n    }\n\n    .dataframe thead th {\n        text-align: right;\n    }\n</style>\n<table border=\"1\" class=\"dataframe\">\n  <thead>\n    <tr style=\"text-align: right;\">\n      <th></th>\n      <th>movieId</th>\n      <th>rating</th>\n    </tr>\n    <tr>\n      <th>year</th>\n      <th></th>\n      <th></th>\n    </tr>\n  </thead>\n  <tbody>\n    <tr>\n      <th>1900</th>\n      <td>65545.252419</td>\n      <td>3.602960</td>\n    </tr>\n    <tr>\n      <th>1950</th>\n      <td>3503.427966</td>\n      <td>3.915254</td>\n    </tr>\n    <tr>\n      <th>1951</th>\n      <td>2605.588477</td>\n      <td>3.983539</td>\n    </tr>\n    <tr>\n      <th>1952</th>\n      <td>4107.796053</td>\n      <td>4.000000</td>\n    </tr>\n    <tr>\n      <th>1953</th>\n      <td>4032.321101</td>\n      <td>3.754587</td>\n    </tr>\n    <tr>\n      <th>1954</th>\n      <td>2867.661850</td>\n      <td>3.994220</td>\n    </tr>\n    <tr>\n      <th>1955</th>\n      <td>4925.548276</td>\n      <td>3.751724</td>\n    </tr>\n    <tr>\n      <th>1956</th>\n      <td>5645.423529</td>\n      <td>3.617647</td>\n    </tr>\n    <tr>\n      <th>1957</th>\n      <td>2750.965190</td>\n      <td>4.014241</td>\n    </tr>\n    <tr>\n      <th>1958</th>\n      <td>2574.500000</td>\n      <td>3.823171</td>\n    </tr>\n  </tbody>\n</table>\n</div>"
     },
     "metadata": {},
     "execution_count": 120
    }
   ],
   "source": [
    "result = merged_movies_df.groupby('year').mean()\n",
    "result.head(10)"
   ]
  },
  {
   "cell_type": "code",
   "execution_count": null,
   "metadata": {},
   "outputs": [],
   "source": []
  }
 ]
}