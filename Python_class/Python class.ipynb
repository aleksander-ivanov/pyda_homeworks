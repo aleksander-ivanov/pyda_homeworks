{
 "metadata": {
  "language_info": {
   "codemirror_mode": {
    "name": "ipython",
    "version": 3
   },
   "file_extension": ".py",
   "mimetype": "text/x-python",
   "name": "python",
   "nbconvert_exporter": "python",
   "pygments_lexer": "ipython3",
   "version": "3.9.1-final"
  },
  "orig_nbformat": 2,
  "kernelspec": {
   "name": "python3",
   "display_name": "Python 3.9.1 64-bit",
   "metadata": {
    "interpreter": {
     "hash": "1ba41e31cba6296be7d0fe349cdb8adcfffcd5c4a25d46680d45a463bbdf4896"
    }
   }
  }
 },
 "nbformat": 4,
 "nbformat_minor": 2,
 "cells": [
  {
   "source": [
    "# Домашнее задание к лекции «Понятие класса»\n"
   ],
   "cell_type": "markdown",
   "metadata": {}
  },
  {
   "source": [
    "### Задание 1\n",
    "Напишите функцию, которая возвращает название валюты (поле ‘Name’) с максимальным значением курса с помощью сервиса https://www.cbr-xml-daily.ru/daily_json.js"
   ],
   "cell_type": "markdown",
   "metadata": {}
  },
  {
   "cell_type": "code",
   "execution_count": 27,
   "metadata": {},
   "outputs": [],
   "source": [
    "import requests\n",
    "\n",
    "def get_max_currency_name():\n",
    "    url = 'https://www.cbr-xml-daily.ru/daily_json.js'\n",
    "    response = requests.get(url).json()\n",
    "\n",
    "    currency_dict = {item['Name']:item['Value'] for item in response['Valute'].values()}\n",
    "    max_value = max(currency_dict.values())\n",
    "    \n",
    "    result = [k for k, v in currency_dict.items() if v == max_value]\n",
    "    return result[0]"
   ]
  },
  {
   "cell_type": "code",
   "execution_count": 28,
   "metadata": {},
   "outputs": [
    {
     "output_type": "execute_result",
     "data": {
      "text/plain": [
       "'СДР (специальные права заимствования)'"
      ]
     },
     "metadata": {},
     "execution_count": 28
    }
   ],
   "source": [
    "get_max_currency_name()"
   ]
  },
  {
   "source": [
    "### Задание 2\n",
    "Добавьте в класс Rate параметр diff (со значениями True или False), который в случае значения True в методах курсов валют (eur, usd итд) будет возвращать не курс валюты, а изменение по сравнению в прошлым значением. Считайте, self.diff будет принимать значение True только при возврате значения курса. При отображении всей информации о валюте он не используется."
   ],
   "cell_type": "markdown",
   "metadata": {}
  },
  {
   "cell_type": "code",
   "execution_count": 50,
   "metadata": {},
   "outputs": [],
   "source": [
    "from libs.exchange import Rate\n",
    "\n",
    "class DiffRate(Rate):\n",
    "    def __init__(self, diff, format='value'):\n",
    "        super().__init__(format)\n",
    "        self.diff:bool = diff\n",
    "\n",
    "    def make_format(self, currency):\n",
    "        \"\"\"\n",
    "        Переопределение метода базового класса.\n",
    "        Добаление возможности получения разницы курса валюты по сравнению в прошлым значением\n",
    "        self.diff = True\n",
    "        currency.Value - currency.Previous\n",
    "        \"\"\"\n",
    "        response = self.exchange_rates()\n",
    "        \n",
    "        if self.diff:\n",
    "            current_value = response[currency]['Value']\n",
    "            previous_value = response[currency]['Previous']\n",
    "            print(current_value)\n",
    "            print(previous_value)\n",
    "            return (current_value - previous_value)\n",
    "\n",
    "        return super().make_format(currency)\n"
   ]
  },
  {
   "cell_type": "code",
   "execution_count": 48,
   "metadata": {},
   "outputs": [
    {
     "output_type": "stream",
     "name": "stdout",
     "text": [
      "89.6604\n89.5427\n"
     ]
    },
    {
     "output_type": "execute_result",
     "data": {
      "text/plain": [
       "0.11769999999999925"
      ]
     },
     "metadata": {},
     "execution_count": 48
    }
   ],
   "source": [
    "DiffRate(True).make_format('EUR')"
   ]
  },
  {
   "cell_type": "code",
   "execution_count": 51,
   "metadata": {},
   "outputs": [
    {
     "output_type": "execute_result",
     "data": {
      "text/plain": [
       "89.6604"
      ]
     },
     "metadata": {},
     "execution_count": 51
    }
   ],
   "source": [
    "DiffRate(False).make_format('EUR')"
   ]
  },
  {
   "source": [
    "### Задание 3\n",
    "Напишите класс Designer, который учитывает количество международных премий. Подсказки в коде занятия в разделе “Домашнее задание задача 3”."
   ],
   "cell_type": "markdown",
   "metadata": {}
  },
  {
   "cell_type": "code",
   "execution_count": 76,
   "metadata": {},
   "outputs": [],
   "source": [
    "class Employee:\n",
    "    def __init__(self, name, seniority):\n",
    "        self.name = name\n",
    "        self.seniority = seniority\n",
    "        \n",
    "        self.grade = 1\n",
    "    \n",
    "    def grade_up(self):\n",
    "        \"\"\"Повышает уровень сотрудника\"\"\"\n",
    "        self.grade += 1\n",
    "    \n",
    "    def publish_grade(self):\n",
    "        \"\"\"Публикация результатов аккредитации сотрудников\"\"\"\n",
    "        print(self.name, self.grade)\n",
    "    \n",
    "    def check_if_it_is_time_for_upgrade(self):\n",
    "        pass"
   ]
  },
  {
   "cell_type": "code",
   "execution_count": 82,
   "metadata": {},
   "outputs": [],
   "source": [
    "class Designer(Employee):\n",
    "    def __init__(self, name, seniority, is_awarded = False):\n",
    "        super().__init__(name, seniority)\n",
    "\n",
    "        self.grade = 2 # при выходе на работу сотрудник уже имеет две премии\n",
    "        self.is_awarded = is_awarded\n",
    "\n",
    "    def grade_up_for_award(self):\n",
    "        \"\"\"Получение международной премии – это +2 балла\"\"\"\n",
    "        self.grade += 2\n",
    "\n",
    "    def check_if_it_is_time_for_upgrade(self):\n",
    "        # для каждой аккредитации увеличиваем счетчик на 1\n",
    "        # пока считаем, что все разработчики проходят аккредитацию\n",
    "        self.seniority += 1\n",
    "        \n",
    "        # повышение на 1 грейд за каждые 7 баллов\n",
    "        if self.seniority % 7 == 0:\n",
    "            self.grade_up()\n",
    "\n",
    "        if self.is_awarded:\n",
    "            self.grade_up_for_award()\n",
    "        \n",
    "        # публикация результатов\n",
    "        return self.publish_grade()"
   ]
  },
  {
   "cell_type": "code",
   "execution_count": 85,
   "metadata": {},
   "outputs": [
    {
     "output_type": "stream",
     "name": "stdout",
     "text": [
      "Александр 2\n"
     ]
    }
   ],
   "source": [
    "alex = Designer('Александр', 2, True)\n",
    "alex.publish_grade()\n"
   ]
  },
  {
   "cell_type": "code",
   "execution_count": 86,
   "metadata": {},
   "outputs": [
    {
     "output_type": "stream",
     "name": "stdout",
     "text": [
      "Александр 4\nАлександр 6\nАлександр 8\nАлександр 10\nАлександр 13\nАлександр 15\nАлександр 17\nАлександр 19\nАлександр 21\nАлександр 23\nАлександр 25\nАлександр 28\nАлександр 30\nАлександр 32\nАлександр 34\nАлександр 36\nАлександр 38\nАлександр 40\nАлександр 43\nАлександр 45\n"
     ]
    }
   ],
   "source": [
    "for i in range(20):\n",
    "    alex.check_if_it_is_time_for_upgrade()"
   ]
  },
  {
   "cell_type": "code",
   "execution_count": null,
   "metadata": {},
   "outputs": [],
   "source": []
  }
 ]
}