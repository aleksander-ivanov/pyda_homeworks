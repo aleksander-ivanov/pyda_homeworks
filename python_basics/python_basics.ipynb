{
 "cells": [
  {
   "cell_type": "markdown",
   "metadata": {},
   "source": [
    "# Домашнее задание к лекции \"Основы Python\""
   ]
  },
  {
   "cell_type": "markdown",
   "metadata": {},
   "source": [
    "### Задание 1"
   ]
  },
  {
   "cell_type": "code",
   "execution_count": 9,
   "metadata": {},
   "outputs": [],
   "source": [
    "def compare_phrases(phrase_1, phrase_2):\n",
    "    len_phrase_1 = len(phrase_1)\n",
    "    len_phrase_2 = len(phrase_2)\n",
    "\n",
    "    if len_phrase_1 > len_phrase_2:\n",
    "        print('Фраза 1 длиннее фразы 2')\n",
    "    elif len_phrase_1 < len_phrase_2:\n",
    "        print('Фраза 2 длиннее фразы 1')\n",
    "    else:\n",
    "        print('Фразы равной длины')"
   ]
  },
  {
   "cell_type": "code",
   "execution_count": 11,
   "metadata": {},
   "outputs": [
    {
     "name": "stdout",
     "output_type": "stream",
     "text": [
      "Фраза 1 длиннее фразы 2\n"
     ]
    }
   ],
   "source": [
    "phrase_1 = 'Насколько проще было бы писать программы, если бы не заказчики'\n",
    "phrase_2 = '640Кб должно хватить для любых задач. Билл Гейтс (по легенде)'\n",
    "\n",
    "compare_phrases(phrase_1, phrase_2)"
   ]
  },
  {
   "cell_type": "code",
   "execution_count": 12,
   "metadata": {},
   "outputs": [
    {
     "name": "stdout",
     "output_type": "stream",
     "text": [
      "Фраза 2 длиннее фразы 1\n"
     ]
    }
   ],
   "source": [
    "phrase_1 = '640Кб должно хватить для любых задач. Билл Гейтс (по легенде)'\n",
    "phrase_2 = 'Насколько проще было бы писать программы, если бы не заказчики'\n",
    "\n",
    "compare_phrases(phrase_1, phrase_2)"
   ]
  },
  {
   "cell_type": "code",
   "execution_count": 13,
   "metadata": {},
   "outputs": [
    {
     "name": "stdout",
     "output_type": "stream",
     "text": [
      "Фразы равной длины\n"
     ]
    }
   ],
   "source": [
    "phrase_1 = 'Насколько проще было бы писать программы, если бы не заказчики'\n",
    "phrase_2 = 'Насколько проще было бы писать программы, если бы не заказчики'\n",
    "\n",
    "compare_phrases(phrase_1, phrase_2)"
   ]
  },
  {
   "cell_type": "markdown",
   "metadata": {},
   "source": [
    "### Задание 2"
   ]
  },
  {
   "cell_type": "code",
   "execution_count": 78,
   "metadata": {},
   "outputs": [],
   "source": [
    "def is_leap_year(year):\n",
    "    is_leap = year % 4 == 0 and (year % 100 != 0 or year % 400 == 0)\n",
    "    text = 'Високосный год' if is_leap else 'Обычный год'\n",
    "    print(text)"
   ]
  },
  {
   "cell_type": "code",
   "execution_count": 79,
   "metadata": {},
   "outputs": [
    {
     "name": "stdout",
     "output_type": "stream",
     "text": [
      "Високосный год\n"
     ]
    }
   ],
   "source": [
    "year = 2020\n",
    "is_leap_year(year)"
   ]
  },
  {
   "cell_type": "code",
   "execution_count": 80,
   "metadata": {},
   "outputs": [
    {
     "name": "stdout",
     "output_type": "stream",
     "text": [
      "Обычный год\n"
     ]
    }
   ],
   "source": [
    "year = 2019\n",
    "is_leap_year(year)"
   ]
  },
  {
   "cell_type": "markdown",
   "metadata": {},
   "source": [
    "### Задание 3"
   ]
  },
  {
   "cell_type": "code",
   "execution_count": 72,
   "metadata": {},
   "outputs": [],
   "source": [
    "months = ['январь', 'февраль', 'март', 'апрель', 'май', 'июнь', 'июль', 'август', 'сентябрь', 'октябрь', 'ноябрь', 'декабрь']\n",
    "zodiacs = ['Козерог', 'Стрелец', 'Скорпион', 'Весы', 'Дева', 'Лев', 'Рак', 'Близнецы', 'Телец', 'Овен', 'Рыбы', 'Водолей'];\n",
    "        \n",
    "def get_zodiac(day, month):\n",
    "    zodiac = None\n",
    "    month = month.lower()\n",
    "    \n",
    "    if month ==  months[0]:\n",
    "        zodiac = zodiacs[0] if (day < 20) else zodiacs[11]\n",
    "    elif month == months[1]:\n",
    "        zodiac = zodiacs[11] if (day < 19) else zodiacs[10]\n",
    "    elif month == months[2]:\n",
    "        zodiac = zodiacs[10] if (day < 21) else zodiacs[9]\n",
    "    elif month == months[3]:\n",
    "        zodiac = zodiacs[9] if (day < 20) else zodiacs[8]\n",
    "    elif month == months[4]:\n",
    "        zodiac = zodiacs[8] if (day < 21) else zodiacs[7]\n",
    "    elif month == months[5]:\n",
    "        zodiac = zodiacs[7] if (day < 21) else zodiacs[6]\n",
    "    elif month == months[6]:\n",
    "        zodiac = zodiacs[6] if (day < 23) else zodiacs[5]\n",
    "    elif month == months[7]:\n",
    "        zodiac = zodiacs[5] if (day < 23) else zodiacs[4]\n",
    "    elif month == months[8]:\n",
    "        zodiac = zodiacs[4] if (day < 23) else zodiacs[3]\n",
    "    elif month == months[9]:\n",
    "        zodiac = zodiacs[3] if (day < 23) else zodiacs[2]\n",
    "    elif month == months[10]:\n",
    "        zodiac = zodiacs[2] if (day < 22) else zodiacs[1]\n",
    "    elif month == months[11]:\n",
    "        zodiac = zodiacs[1] if (day < 22) else zodiacs[0]\n",
    "    else:\n",
    "        print('Введены неверные данные!')\n",
    "        \n",
    "    if zodiac is not None:    \n",
    "        print('Ваш знак зодиака:' ,zodiac)"
   ]
  },
  {
   "cell_type": "code",
   "execution_count": 74,
   "metadata": {},
   "outputs": [
    {
     "name": "stdin",
     "output_type": "stream",
     "text": [
      "Введите день: 29\n",
      "Введите месяц: Октябрь\n"
     ]
    },
    {
     "name": "stdout",
     "output_type": "stream",
     "text": [
      "Ваш знак зодиака: Скорпион\n"
     ]
    }
   ],
   "source": [
    "day = int(input('Введите день:'))\n",
    "month = input('Введите месяц:')\n",
    "\n",
    "get_zodiac(day, month)\n"
   ]
  },
  {
   "cell_type": "markdown",
   "metadata": {},
   "source": [
    "### Задание 4"
   ]
  },
  {
   "cell_type": "code",
   "execution_count": 92,
   "metadata": {},
   "outputs": [],
   "source": [
    "def get_box_type(w,l,h):\n",
    "    box_types = ['Коробка №1', 'Коробка №2', 'Упаковка для лыж', 'Стандартная коробка №3']\n",
    "    box_type = None\n",
    "    \n",
    "    if w < 15 and l < 15 and h < 15:\n",
    "        box_type = box_types[0]\n",
    "    elif l > 200:\n",
    "        box_type = box_types[2]\n",
    "    elif 15 < w < 50 or 15 < l < 50 or 15 < h < 50:\n",
    "        box_type = box_types[1]\n",
    "    else:\n",
    "        box_type = box_types[3]        \n",
    "        \n",
    "    print('Вам нужна',box_type)"
   ]
  },
  {
   "cell_type": "code",
   "execution_count": 93,
   "metadata": {},
   "outputs": [
    {
     "name": "stdout",
     "output_type": "stream",
     "text": [
      "Вам нужна Стандартная коробка №3\n"
     ]
    }
   ],
   "source": [
    "width = 15\n",
    "length = 50\n",
    "height = 15\n",
    "\n",
    "get_box_type(width, length, height)"
   ]
  },
  {
   "cell_type": "code",
   "execution_count": 94,
   "metadata": {},
   "outputs": [
    {
     "name": "stdout",
     "output_type": "stream",
     "text": [
      "Вам нужна Упаковка для лыж\n"
     ]
    }
   ],
   "source": [
    "width = 45\n",
    "length = 205\n",
    "height = 45\n",
    "\n",
    "get_box_type(width, length, height)"
   ]
  },
  {
   "cell_type": "markdown",
   "metadata": {},
   "source": [
    "### Задание 5"
   ]
  },
  {
   "cell_type": "code",
   "execution_count": 116,
   "metadata": {},
   "outputs": [],
   "source": [
    "def is_ticket_happy(number):\n",
    "    array = [int(x) for x in str(number)]\n",
    "    sum1 = sum(array[:3])\n",
    "    sum2 = sum(array[-3:])\n",
    "    text = 'Счастливый билет' if sum1 == sum2 else 'Несчастливый билет'\n",
    "    print(text)"
   ]
  },
  {
   "cell_type": "code",
   "execution_count": 117,
   "metadata": {},
   "outputs": [
    {
     "name": "stdout",
     "output_type": "stream",
     "text": [
      "Несчастливый билет\n"
     ]
    }
   ],
   "source": [
    "number = 123456\n",
    "is_ticket_happy(number)"
   ]
  },
  {
   "cell_type": "code",
   "execution_count": 118,
   "metadata": {},
   "outputs": [
    {
     "name": "stdout",
     "output_type": "stream",
     "text": [
      "Счастливый билет\n"
     ]
    }
   ],
   "source": [
    "number = 123321\n",
    "is_ticket_happy(number)"
   ]
  },
  {
   "cell_type": "markdown",
   "metadata": {},
   "source": [
    "### Задание 6"
   ]
  },
  {
   "cell_type": "code",
   "execution_count": 1,
   "metadata": {},
   "outputs": [],
   "source": [
    "def circle_area():\n",
    "    PI = 3.1416\n",
    "    radius = float(input('Введите радиус круга:'))\n",
    "    \n",
    "    area = PI * radius * radius\n",
    "    \n",
    "    print('Площадь круга %0.2f' %area)  "
   ]
  },
  {
   "cell_type": "code",
   "execution_count": 7,
   "metadata": {},
   "outputs": [],
   "source": [
    "def triangle_area():\n",
    "    a = float(input('Введите длину стороны A:'))    \n",
    "    b = float(input('Введите длину стороны B:'))\n",
    "    c = float(input('Введите длину стороны C:'))   \n",
    "    \n",
    "    # using Heron's formula for area calculation\n",
    "    \n",
    "    # calculate the semi-perimeter  \n",
    "    s = (a + b + c) / 2  \n",
    "  \n",
    "    # calculate the area  \n",
    "    area = (s*(s-a)*(s-b)*(s-c)) ** 0.5  \n",
    "    \n",
    "    print('Площадь треугольника %0.2f' %area)   \n"
   ]
  },
  {
   "cell_type": "code",
   "execution_count": 9,
   "metadata": {},
   "outputs": [],
   "source": [
    "def rectangle_area():\n",
    "    a = float(input('Введите длину стороны A:'))    \n",
    "    b = float(input('Введите длину стороны B:'))\n",
    "    \n",
    "    area = a*b  \n",
    "    \n",
    "    print('Площадь прямоугольника %0.2f' %area)   "
   ]
  },
  {
   "cell_type": "code",
   "execution_count": 13,
   "metadata": {},
   "outputs": [
    {
     "name": "stdin",
     "output_type": "stream",
     "text": [
      "Введите фигуру прямоугольник\n",
      "Введите длину стороны A: 2\n",
      "Введите длину стороны B: 3\n"
     ]
    },
    {
     "name": "stdout",
     "output_type": "stream",
     "text": [
      "Площадь прямоугольника 6.00\n"
     ]
    }
   ],
   "source": [
    "figures = ['круг', 'треугольник', 'прямоугольник']\n",
    "figure = input('Введите фигуру')\n",
    "\n",
    "if figure == figures[0]:\n",
    "    circle_area()\n",
    "elif figure == figures[1]:\n",
    "    triangle_area()\n",
    "elif figure == figures[2]:\n",
    "    rectangle_area()\n",
    "else:\n",
    "    print('Введена неверная фигура!')"
   ]
  },
  {
   "cell_type": "code",
   "execution_count": null,
   "metadata": {},
   "outputs": [],
   "source": []
  }
 ],
 "metadata": {
  "kernelspec": {
   "display_name": "Python [conda env:root] *",
   "language": "python",
   "name": "conda-root-py"
  },
  "language_info": {
   "codemirror_mode": {
    "name": "ipython",
    "version": 3
   },
   "file_extension": ".py",
   "mimetype": "text/x-python",
   "name": "python",
   "nbconvert_exporter": "python",
   "pygments_lexer": "ipython3",
   "version": "3.8.5"
  }
 },
 "nbformat": 4,
 "nbformat_minor": 4
}
