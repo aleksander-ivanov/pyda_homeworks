{
 "cells": [
  {
   "cell_type": "markdown",
   "metadata": {},
   "source": [
    "# Домашнее задание к лекции \"Введение в типы данных и циклы. Часть 1\""
   ]
  },
  {
   "cell_type": "markdown",
   "metadata": {},
   "source": [
    "### Задание 1"
   ]
  },
  {
   "cell_type": "code",
   "execution_count": 64,
   "metadata": {},
   "outputs": [],
   "source": [
    "def text_slicing(text:str)->str:\n",
    "    text_len = len(text)\n",
    "    \n",
    "    if text_len % 2 == 0:\n",
    "        index1 = text_len // 2 - 1\n",
    "        index2 = index1 + 2\n",
    "    else:\n",
    "        index1 = text_len // 2\n",
    "        index2 = index1 + 1\n",
    "        \n",
    "    return text[index1:index2] # TODO: use ternary operator"
   ]
  },
  {
   "cell_type": "code",
   "execution_count": 65,
   "metadata": {},
   "outputs": [
    {
     "name": "stdout",
     "output_type": "stream",
     "text": [
      "1 3\n",
      "3 4\n"
     ]
    }
   ],
   "source": [
    "word = 'test'\n",
    "\n",
    "assert text_slicing(\"test\") == \"es\"\n",
    "assert text_slicing(\"testing\") == \"t\""
   ]
  },
  {
   "cell_type": "markdown",
   "metadata": {},
   "source": [
    "### Задание 2"
   ]
  },
  {
   "cell_type": "code",
   "execution_count": 3,
   "metadata": {},
   "outputs": [],
   "source": [
    "def summator():\n",
    "    result = 0\n",
    "    while True:\n",
    "        inp = int(input('Введите число:'))\n",
    "        if inp == 0:\n",
    "            break\n",
    "            \n",
    "        result += inp\n",
    "         \n",
    "    print(result)"
   ]
  },
  {
   "cell_type": "code",
   "execution_count": 6,
   "metadata": {},
   "outputs": [
    {
     "name": "stdin",
     "output_type": "stream",
     "text": [
      "Введите число: 3\n",
      "Введите число: 3\n",
      "Введите число: 3\n",
      "Введите число: 0\n"
     ]
    },
    {
     "name": "stdout",
     "output_type": "stream",
     "text": [
      "9\n"
     ]
    }
   ],
   "source": [
    "summator()"
   ]
  },
  {
   "cell_type": "markdown",
   "metadata": {},
   "source": [
    "### Задание 3"
   ]
  },
  {
   "cell_type": "code",
   "execution_count": 19,
   "metadata": {},
   "outputs": [],
   "source": [
    "def dating(boys, girls):\n",
    "    \n",
    "    if len(boys) != len(girls):\n",
    "        print('Внимание, кто-то может остаться без пары!')\n",
    "    else:\n",
    "        boys.sort(key=str.lower)   \n",
    "        girls.sort(key=str.lower)\n",
    "        \n",
    "        print('Идеальные пары:')    \n",
    "\n",
    "        for i in range(len(boys)):\n",
    "            print(boys[i], 'и', girls[i])\n",
    "\n",
    "    "
   ]
  },
  {
   "cell_type": "code",
   "execution_count": 20,
   "metadata": {},
   "outputs": [
    {
     "name": "stdout",
     "output_type": "stream",
     "text": [
      "Идеальные пары:\n",
      "Alex и Emma\n",
      "Arthur и Kate\n",
      "John и Kira\n",
      "Peter и Liza\n",
      "Richard и Trisha\n"
     ]
    }
   ],
   "source": [
    "boys = ['Peter', 'Alex', 'John', 'Arthur', 'Richard']\n",
    "girls = ['Kate', 'Liza', 'Kira', 'Emma', 'Trisha']\n",
    "\n",
    "dating(boys, girls)"
   ]
  },
  {
   "cell_type": "code",
   "execution_count": 21,
   "metadata": {},
   "outputs": [
    {
     "name": "stdout",
     "output_type": "stream",
     "text": [
      "Внимание, кто-то может остаться без пары!\n"
     ]
    }
   ],
   "source": [
    "boys = ['Peter', 'Alex', 'John', 'Arthur', 'Richard', 'Michael']\n",
    "girls = ['Kate', 'Liza', 'Kira', 'Emma', 'Trisha']\n",
    "\n",
    "dating(boys, girls)"
   ]
  },
  {
   "cell_type": "markdown",
   "metadata": {},
   "source": [
    "### Задание 4"
   ]
  },
  {
   "cell_type": "code",
   "execution_count": 37,
   "metadata": {},
   "outputs": [],
   "source": [
    "def get_avg_temp(lst):\n",
    "    fahrenheit_avg = sum(lst) / len(lst)\n",
    "    celsius_avg = (fahrenheit_avg - 32) * 5/9\n",
    "    return round(celsius_avg, 1)"
   ]
  },
  {
   "cell_type": "code",
   "execution_count": 38,
   "metadata": {},
   "outputs": [],
   "source": [
    "def calculate_avg_temperature(items):\n",
    "#     Celsius = (Fahrenheit – 32) * 5/9\n",
    "    print('Средняя температура в странах:')\n",
    "    \n",
    "    for item in items:\n",
    "        print(item[0], ' - ', get_avg_temp(item[1]))"
   ]
  },
  {
   "cell_type": "code",
   "execution_count": 39,
   "metadata": {},
   "outputs": [
    {
     "name": "stdout",
     "output_type": "stream",
     "text": [
      "Средняя температура в странах:\n",
      "Thailand  -  23.9\n",
      "Germany  -  13.8\n",
      "Russia  -  3.7\n",
      "Poland  -  12.0\n"
     ]
    }
   ],
   "source": [
    "countries_temperature = [\n",
    "    ['Thailand', [75.2, 77, 78.8, 73.4, 68, 75.2, 77]],\n",
    "    ['Germany', [57.2, 55.4, 59, 59, 53.6]],\n",
    "    ['Russia', [35.6, 37.4, 39.2, 41, 42.8, 39.2, 35.6]],\n",
    "    ['Poland', [50, 50, 53.6, 57.2, 55.4, 55.4]]\n",
    "]\n",
    "\n",
    "calculate_avg_temperature(countries_temperature)"
   ]
  },
  {
   "cell_type": "markdown",
   "metadata": {},
   "source": [
    "### Задание 5 "
   ]
  },
  {
   "cell_type": "code",
   "execution_count": 59,
   "metadata": {},
   "outputs": [],
   "source": [
    "def to_dictionary(stream):\n",
    "    dict = {}\n",
    "    for item in stream:\n",
    "        arr = item.split(',')\n",
    "        \n",
    "        if dict.get(arr[1], False):\n",
    "            dict[arr[1]] = dict[arr[1]] + int(arr[2])\n",
    "        else:\n",
    "            dict[arr[1]] = int(arr[2])\n",
    "\n",
    "    return dict\n",
    "    "
   ]
  },
  {
   "cell_type": "code",
   "execution_count": 60,
   "metadata": {},
   "outputs": [],
   "source": [
    "def get_views_num(stream):\n",
    "    dict = to_dictionary(stream)\n",
    "    result = sum(dict.values())/len(dict)\n",
    "    \n",
    "    return round(result, 2)"
   ]
  },
  {
   "cell_type": "code",
   "execution_count": 61,
   "metadata": {},
   "outputs": [
    {
     "name": "stdout",
     "output_type": "stream",
     "text": [
      "Среднее количество просмотров на уникального пользователя:  23.25\n"
     ]
    }
   ],
   "source": [
    "stream = [\n",
    "    '2018-01-01,user1,3',\n",
    "    '2018-01-07,user1,4',\n",
    "    '2018-03-29,user1,1',\n",
    "    '2018-04-04,user1,13',\n",
    "    '2018-01-05,user2,7',\n",
    "    '2018-06-14,user3,4',\n",
    "    '2018-07-02,user3,10',\n",
    "    '2018-03-21,user4,19',\n",
    "    '2018-03-22,user4,4',\n",
    "    '2018-04-22,user4,8',\n",
    "    '2018-05-03,user4,9',\n",
    "    '2018-05-11,user4,11',\n",
    "]\n",
    "\n",
    "result = get_views_num(stream)\n",
    "assert result == 23.25\n",
    "print('Среднее количество просмотров на уникального пользователя: ', result)"
   ]
  },
  {
   "cell_type": "code",
   "execution_count": 63,
   "metadata": {},
   "outputs": [
    {
     "name": "stdout",
     "output_type": "stream",
     "text": [
      "Среднее количество просмотров на уникального пользователя:  145.33\n"
     ]
    }
   ],
   "source": [
    "stream = [\n",
    "    '2018-01-01,user100,150',\n",
    "    '2018-01-07,user99,205',\n",
    "    '2018-03-29,user1001,81'\n",
    "]\n",
    "\n",
    "result = get_views_num(stream)\n",
    "assert result == 145.33\n",
    "print('Среднее количество просмотров на уникального пользователя: ', result)"
   ]
  },
  {
   "cell_type": "markdown",
   "metadata": {},
   "source": [
    "### Задание 6"
   ]
  },
  {
   "cell_type": "code",
   "execution_count": 126,
   "metadata": {},
   "outputs": [],
   "source": [
    "def find_duplicates(nums):\n",
    "    lst = list(map(int, nums.split(' ')))\n",
    "    result = [item for item in set(lst) if lst.count(item) > 1]\n",
    "    result.sort()\n",
    "\n",
    "    print('Результат:')\n",
    "    print(*result, sep=' ')"
   ]
  },
  {
   "cell_type": "code",
   "execution_count": 127,
   "metadata": {},
   "outputs": [
    {
     "name": "stdout",
     "output_type": "stream",
     "text": [
      "Результат:\n",
      "0 3 4\n"
     ]
    }
   ],
   "source": [
    "# nums = input('Введите числа:')\n",
    "nums = '4 8 0 3 4 2 0 3'\n",
    "find_duplicates(nums)"
   ]
  },
  {
   "cell_type": "code",
   "execution_count": 128,
   "metadata": {},
   "outputs": [
    {
     "name": "stdout",
     "output_type": "stream",
     "text": [
      "Результат:\n",
      "1 2 3\n"
     ]
    }
   ],
   "source": [
    "# nums = input('Введите числа:')\n",
    "nums = '1 1 2 2 3 3'\n",
    "find_duplicates(nums)"
   ]
  },
  {
   "cell_type": "code",
   "execution_count": 129,
   "metadata": {},
   "outputs": [
    {
     "name": "stdout",
     "output_type": "stream",
     "text": [
      "Результат:\n",
      "1 2 15 200\n"
     ]
    }
   ],
   "source": [
    "# nums = input('Введите числа:')\n",
    "nums = '10 15 15 103 200 200 200 1 1 1 1 1 2 2 2'\n",
    "find_duplicates(nums)"
   ]
  },
  {
   "cell_type": "code",
   "execution_count": null,
   "metadata": {},
   "outputs": [],
   "source": []
  }
 ],
 "metadata": {
  "kernelspec": {
   "display_name": "Python [conda env:root] *",
   "language": "python",
   "name": "conda-root-py"
  },
  "language_info": {
   "codemirror_mode": {
    "name": "ipython",
    "version": 3
   },
   "file_extension": ".py",
   "mimetype": "text/x-python",
   "name": "python",
   "nbconvert_exporter": "python",
   "pygments_lexer": "ipython3",
   "version": "3.8.5"
  }
 },
 "nbformat": 4,
 "nbformat_minor": 4
}
