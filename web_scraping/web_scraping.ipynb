{
 "cells": [
  {
   "cell_type": "markdown",
   "metadata": {},
   "source": [
    "# Домашнее задание к лекции \"Основы веб-скрапинга и работы с API\""
   ]
  },
  {
   "cell_type": "markdown",
   "metadata": {},
   "source": [
    "## Задание 1. \n",
    "\n",
    "### Обязательная часть"
   ]
  },
  {
   "cell_type": "markdown",
   "metadata": {},
   "source": [
    "Будем парсить страницу со свежеми новостям на [habr.com/ru/all/](https://habr.com/ru/all/).\n",
    "\n",
    "Вам необходимо собирать только те статьи, в которых встречается хотя бы одно требуемое ключевое слово. Эти слова определяем в начале кода в переменной, например:\n",
    "\n",
    "`KEYWORDS = ['python', 'парсинг']`\n",
    "\n",
    " Поиск вести по всей доступной preview-информации (это информация, доступная непосредственно с текущей страницы). \n",
    " \n",
    "В итоге должен формироваться датафрейм вида: `<дата> - <заголовок> - <ссылка>`"
   ]
  },
  {
   "cell_type": "code",
   "execution_count": 189,
   "metadata": {},
   "outputs": [],
   "source": [
    "import requests\n",
    "from bs4 import BeautifulSoup\n",
    "import pandas as pd\n"
   ]
  },
  {
   "cell_type": "code",
   "execution_count": 116,
   "metadata": {},
   "outputs": [],
   "source": [
    "KEYWORDS = ['python', 'парсинг']\n",
    "habr_url = 'https://habr.com/ru/all/'"
   ]
  },
  {
   "cell_type": "code",
   "execution_count": 123,
   "metadata": {},
   "outputs": [],
   "source": [
    "def parse_link(url):\n",
    "    req = requests.get(url)\n",
    "    soup = BeautifulSoup(req.text)\n",
    "    posts = soup.find_all('article', class_='post post_preview')\n",
    "    preview_df = pd.DataFrame()\n",
    "\n",
    "    for post in posts:\n",
    "        read_more_a = post.find('a', class_='post__habracut-btn')\n",
    "        read_more_url = read_more_a.get('href')\n",
    "        read_more_req = requests.get(read_more_url)\n",
    "        text_soup = BeautifulSoup(read_more_req.text)\n",
    "        content = text_soup.find('div', id='post-content-body')\n",
    "\n",
    "        if any([k in content.text.lower() for k in KEYWORDS]):\n",
    "            post_date = post.find('span', class_='post__time').text # TODO: parse to datetime\n",
    "            a = post.find('a', class_='post__title_link')\n",
    "            title = a.text\n",
    "            link = a.get('href')\n",
    "            row = {'date': post_date, 'title': title, 'link': link, 'text': content.text}\n",
    "\n",
    "            preview_df = pd.concat([preview_df, pd.DataFrame([row])])  \n",
    "\n",
    "    return preview_df.reset_index()\n"
   ]
  },
  {
   "cell_type": "code",
   "execution_count": 113,
   "metadata": {
    "tags": []
   },
   "outputs": [
    {
     "output_type": "execute_result",
     "data": {
      "text/plain": [
       "   index             date                                              title  \\\n",
       "0      0  сегодня в 18:35  Как саботировать данные, которые технологическ...   \n",
       "\n",
       "                                                link  \n",
       "0  https://habr.com/ru/company/madrobots/blog/548...  "
      ],
      "text/html": "<div>\n<style scoped>\n    .dataframe tbody tr th:only-of-type {\n        vertical-align: middle;\n    }\n\n    .dataframe tbody tr th {\n        vertical-align: top;\n    }\n\n    .dataframe thead th {\n        text-align: right;\n    }\n</style>\n<table border=\"1\" class=\"dataframe\">\n  <thead>\n    <tr style=\"text-align: right;\">\n      <th></th>\n      <th>index</th>\n      <th>date</th>\n      <th>title</th>\n      <th>link</th>\n    </tr>\n  </thead>\n  <tbody>\n    <tr>\n      <th>0</th>\n      <td>0</td>\n      <td>сегодня в 18:35</td>\n      <td>Как саботировать данные, которые технологическ...</td>\n      <td>https://habr.com/ru/company/madrobots/blog/548...</td>\n    </tr>\n  </tbody>\n</table>\n</div>"
     },
     "metadata": {},
     "execution_count": 113
    }
   ],
   "source": [
    "parse_link(habr_url)"
   ]
  },
  {
   "cell_type": "markdown",
   "metadata": {},
   "source": [
    "### Дополнительная часть (необязательная)"
   ]
  },
  {
   "cell_type": "markdown",
   "metadata": {},
   "source": [
    "Улучшить скрипт так, чтобы он анализировал не только preview-информацию статьи, но и весь текст статьи целиком.\n",
    "\n",
    "Для этого потребуется получать страницы статей и искать по тексту внутри этой страницы.  \n",
    "\n",
    "Итоговый датафрейм формировать со столбцами: `<дата> - <заголовок> - <ссылка> - <текст_статьи>`\n"
   ]
  },
  {
   "cell_type": "code",
   "execution_count": 120,
   "metadata": {},
   "outputs": [],
   "source": [
    "def get_all_links(URL, pages_count):\n",
    "    if pages_count == 1:\n",
    "        return [URL]\n",
    "\n",
    "    result = []\n",
    "    for i in range(1, pages_count):\n",
    "        if i == 1:\n",
    "            result.append(URL)\n",
    "        else:\n",
    "            result.append(f'{URL}page{i}')\n",
    "\n",
    "    return result"
   ]
  },
  {
   "cell_type": "code",
   "execution_count": 121,
   "metadata": {},
   "outputs": [
    {
     "output_type": "execute_result",
     "data": {
      "text/plain": [
       "['https://habr.com/ru/all/',\n",
       " 'https://habr.com/ru/all/page2',\n",
       " 'https://habr.com/ru/all/page3']"
      ]
     },
     "metadata": {},
     "execution_count": 121
    }
   ],
   "source": [
    "all_links = get_all_links(habr_url, 4)\n",
    "all_links"
   ]
  },
  {
   "cell_type": "code",
   "execution_count": 122,
   "metadata": {},
   "outputs": [],
   "source": [
    "def parse_habr(url, pages):\n",
    "    all_links = get_all_links(url, pages)\n",
    "\n",
    "    result_df = pd.DataFrame()\n",
    "    for link in all_links:\n",
    "        df = parse_link(link)\n",
    "        result_df = pd.concat([result_df, df])\n",
    "\n",
    "    return result_df"
   ]
  },
  {
   "cell_type": "code",
   "execution_count": 124,
   "metadata": {},
   "outputs": [
    {
     "output_type": "execute_result",
     "data": {
      "text/plain": [
       "  index             date                                              title  \\\n",
       "0     0  сегодня в 19:56  Три мои самые большие ошибки в карьере разрабо...   \n",
       "1     0  сегодня в 18:11  Уход от проблемы TTL или Стратегии корректного...   \n",
       "2     0  сегодня в 17:19        Зачем мы транспилируем Haskell в JavaScript   \n",
       "\n",
       "                                                link  \\\n",
       "0  https://habr.com/ru/company/skillfactory/blog/...   \n",
       "1  https://habr.com/ru/company/skillfactory/blog/...   \n",
       "2  https://habr.com/ru/company/typeable/blog/548574/   \n",
       "\n",
       "                                                text  \n",
       "0  Все мы знаем истории о программистах — рок-звё...  \n",
       "1  Определение TTL для некоторых кэшированных дан...  \n",
       "2  Привет, Хабр! Сегодня мы расскажем, почему мы ...  "
      ],
      "text/html": "<div>\n<style scoped>\n    .dataframe tbody tr th:only-of-type {\n        vertical-align: middle;\n    }\n\n    .dataframe tbody tr th {\n        vertical-align: top;\n    }\n\n    .dataframe thead th {\n        text-align: right;\n    }\n</style>\n<table border=\"1\" class=\"dataframe\">\n  <thead>\n    <tr style=\"text-align: right;\">\n      <th></th>\n      <th>index</th>\n      <th>date</th>\n      <th>title</th>\n      <th>link</th>\n      <th>text</th>\n    </tr>\n  </thead>\n  <tbody>\n    <tr>\n      <th>0</th>\n      <td>0</td>\n      <td>сегодня в 19:56</td>\n      <td>Три мои самые большие ошибки в карьере разрабо...</td>\n      <td>https://habr.com/ru/company/skillfactory/blog/...</td>\n      <td>Все мы знаем истории о программистах — рок-звё...</td>\n    </tr>\n    <tr>\n      <th>1</th>\n      <td>0</td>\n      <td>сегодня в 18:11</td>\n      <td>Уход от проблемы TTL или Стратегии корректного...</td>\n      <td>https://habr.com/ru/company/skillfactory/blog/...</td>\n      <td>Определение TTL для некоторых кэшированных дан...</td>\n    </tr>\n    <tr>\n      <th>2</th>\n      <td>0</td>\n      <td>сегодня в 17:19</td>\n      <td>Зачем мы транспилируем Haskell в JavaScript</td>\n      <td>https://habr.com/ru/company/typeable/blog/548574/</td>\n      <td>Привет, Хабр! Сегодня мы расскажем, почему мы ...</td>\n    </tr>\n  </tbody>\n</table>\n</div>"
     },
     "metadata": {},
     "execution_count": 124
    }
   ],
   "source": [
    "parse_habr(habr_url, 3)"
   ]
  },
  {
   "cell_type": "markdown",
   "metadata": {},
   "source": [
    "## Задание 2."
   ]
  },
  {
   "cell_type": "markdown",
   "metadata": {},
   "source": [
    "### Обязательная часть"
   ]
  },
  {
   "cell_type": "markdown",
   "metadata": {},
   "source": [
    "Написать скрипт, который будет проверять список e-mail адресов на утечку при помощи сервиса [Avast Hack Ckeck](https://www.avast.com/hackcheck/).\n",
    "Список email-ов задаем переменной в начале кода:  \n",
    "`EMAIL = [xxx@x.ru, yyy@y.com]`\n",
    "\n",
    "В итоге должен формироваться датафрейм со столбцами: `<почта> - <дата утечки> - <источник утечки> - <описание утечки>`  \n",
    "\n",
    "**Подсказка**: сервис работает при помощи \"скрытого\" API. Внимательно изучите post-запросы."
   ]
  },
  {
   "cell_type": "code",
   "execution_count": 206,
   "metadata": {},
   "outputs": [],
   "source": [
    "import json\n",
    "import time"
   ]
  },
  {
   "cell_type": "code",
   "execution_count": 245,
   "metadata": {},
   "outputs": [],
   "source": [
    "EMAILS = ['best00@mail.ru', 'star55@gmail.com', 'wellknown@gmail.com']\n",
    "AVAST_URL = 'https://identityprotection.avast.com/v1/web/query/site-breaches/unauthorized-data'"
   ]
  },
  {
   "cell_type": "code",
   "execution_count": 230,
   "metadata": {},
   "outputs": [],
   "source": [
    "mock_response = {\n",
    "  \"breaches\": {\n",
    "    \"12\": {\n",
    "      \"breachId\": 12,\n",
    "      \"site\": \"vk.com\",\n",
    "      \"recordsCount\": 110121799,\n",
    "      \"description\": \"test\",\n",
    "      \"publishDate\": \"2016-10-29T00:00:00Z\",\n",
    "      \"statistics\": {\n",
    "        \"usernames\": 0,\n",
    "        \"passwords\": 107425364,\n",
    "        \"emails\": 104247327\n",
    "      }\n",
    "    }\n",
    "  },\n",
    "  \"data\": {\n",
    "    \"vk.com\": {\n",
    "      \"best00@mail.ru\": [\n",
    "        {\n",
    "          \"breachId\": 12,\n",
    "          \"usernameBreached\": True,\n",
    "          \"passwordBreached\": True\n",
    "        }\n",
    "      ]\n",
    "    }\n",
    "  },\n",
    "  \"summary\": {\n",
    "    \"best00@mail.ru\": {\n",
    "      \"breaches\": [\n",
    "        12\n",
    "      ]\n",
    "    }\n",
    "  }\n",
    "}"
   ]
  },
  {
   "cell_type": "code",
   "execution_count": 234,
   "metadata": {},
   "outputs": [],
   "source": [
    "def build_row(response):\n",
    "    email = list(response['summary'].keys())[0]\n",
    "    breach = response['summary'][email]['breaches'][0]\n",
    "    data = response['breaches'][str(breach)]\n",
    "    row = {'email': email, 'date': data['publishDate'], 'breach source': data['site'], 'description': data['description']}\n",
    "    return row\n"
   ]
  },
  {
   "cell_type": "code",
   "execution_count": 233,
   "metadata": {},
   "outputs": [
    {
     "output_type": "stream",
     "name": "stdout",
     "text": [
      "best00@mail.ru\n12\n"
     ]
    }
   ],
   "source": [
    "assert build_row(mock_response) == {'email': 'best00@mail.ru', 'date': '2016-10-29T00:00:00Z', 'breach source': 'vk.com', 'description':'test'}"
   ]
  },
  {
   "cell_type": "code",
   "execution_count": 248,
   "metadata": {},
   "outputs": [],
   "source": [
    "def prepare_headers():\n",
    "    return {\n",
    "  'Connection': 'keep-alive',\n",
    "  'sec-ch-ua': '\"Google Chrome\";v=\"89\", \"Chromium\";v=\"89\", \";Not A Brand\";v=\"99\"',\n",
    "  'Vaar-Header-App-Build-Version': '1.0.0',\n",
    "  'sec-ch-ua-mobile': '?0',\n",
    "  'User-Agent': 'Mozilla/5.0 (Windows NT 10.0; Win64; x64) AppleWebKit/537.36 (KHTML, like Gecko) Chrome/89.0.4389.90 Safari/537.36',\n",
    "  'Content-Type': 'application/json;charset=UTF-8',\n",
    "  'Accept': 'application/json, text/plain, */*',\n",
    "  'Vaar-Version': '0',\n",
    "  'Vaar-Header-App-Product': 'hackcheck-web-avast',\n",
    "  'Vaar-Header-App-Product-Name': 'hackcheck-web-avast',\n",
    "  'Origin': 'https://www.avast.com',\n",
    "  'Sec-Fetch-Site': 'same-site',\n",
    "  'Sec-Fetch-Mode': 'cors',\n",
    "  'Sec-Fetch-Dest': 'empty',\n",
    "  'Referer': 'https://www.avast.com/',\n",
    "  'Accept-Language': 'ru-RU,ru;q=0.9,en-US;q=0.8,en;q=0.7,und;q=0.6'\n",
    "}"
   ]
  },
  {
   "cell_type": "code",
   "execution_count": 252,
   "metadata": {},
   "outputs": [],
   "source": [
    "def get_hack_check_df(url, emails):\n",
    "    headers = prepare_headers()\n",
    "    breaches_df = pd.DataFrame()\n",
    "\n",
    "    for email in emails:\n",
    "        time.sleep(2.0)\n",
    "        payload = {'emailAddresses': [email]}\n",
    "        res = requests.post(url, data=json.dumps(payload), headers=headers)\n",
    "        print('status_code', res.status_code)\n",
    "        print('reason', res.reason)\n",
    "        print('text', res.text)\n",
    "        response = res.json()\n",
    "        \n",
    "        if not response:\n",
    "            print('Received empty response. May be you blocked for some time.')\n",
    "            continue\n",
    "\n",
    "        row = build_row(response)\n",
    "        breaches_df = pd.concat([breaches_df, pd.DataFrame([row])])\n",
    "\n",
    "    return breaches_df\n"
   ]
  },
  {
   "cell_type": "code",
   "execution_count": 263,
   "metadata": {},
   "outputs": [
    {
     "output_type": "stream",
     "name": "stdout",
     "text": [
      "status_code 200\n",
      "reason OK\n",
      "text {\"breaches\":{\"12\":{\"breachId\":12,\"site\":\"vk.com\",\"recordsCount\":110121799,\"description\":\"Popular Russian social networking platform VKontakte was breached in late 2012. Over 100 million clear-text passwords were compromised in the breach. Breached credential sets included victims' e-mail addresses, passwords, dates of birth, phone numbers and location details. The credential set was advertised on a dark web marketplace as of June 2016 for a price of one bitcoin. \",\"publishDate\":\"2016-10-29T00:00:00Z\",\"statistics\":{\"usernames\":0,\"passwords\":107425364,\"emails\":104247327}}},\"data\":{\"vk.com\":{\"best00@mail.ru\":[{\"breachId\":12,\"usernameBreached\":true,\"passwordBreached\":true}]}},\"summary\":{\"best00@mail.ru\":{\"breaches\":[12]}}}\n",
      "status_code 200\n",
      "reason OK\n",
      "text {\"breaches\":{\"16587\":{\"breachId\":16587,\"site\":\"dubsmash.com\",\"recordsCount\":161162574,\"description\":\"In December 2018, Dubsmash's database was allegedly breached. The stolen data contains usernames, passwords, email addresses and additional personal information. This breach is being privately shared on the internet.\",\"publishDate\":\"2019-03-07T00:00:00Z\",\"statistics\":{\"usernames\":159256428,\"passwords\":161154927,\"emails\":161146252}},\"17830\":{\"breachId\":17830,\"site\":\"wattpad.com\",\"recordsCount\":273322456,\"description\":\"In June 2020, the online writing community Wattpad was allegedly breached. The stolen data contains usernames, IPs, passwords, email addresses and additional personal information. This breach is being privately shared on the internet.\",\"publishDate\":\"2020-07-23T00:00:00Z\",\"statistics\":{\"usernames\":270846321,\"passwords\":192540751,\"emails\":273004868}},\"1\":{\"breachId\":1,\"site\":\"myspace.com\",\"recordsCount\":388649190,\"description\":\"Shortly before the 2016 Memorial Day weekend, MySpace learned that stolen user credentials had been posted to a criminal forum on the dark web. A portion of the stolen data included accounts that were created prior to June 11, 2013 on the old Myspace platform. \",\"publishDate\":\"2016-10-21T00:00:00Z\",\"statistics\":{\"usernames\":388410346,\"passwords\":388229642,\"emails\":388649190}},\"17670\":{\"breachId\":17670,\"site\":\"wishbone.io\",\"recordsCount\":37475476,\"description\":\"In January 2020, the online poll website Wishbone was allegedly breached. The stolen data contains usernames, passwords, email addresses and additional personal information. This breach is being privately shared on the internet.\",\"publishDate\":\"2020-05-28T00:00:00Z\",\"statistics\":{\"usernames\":31111127,\"passwords\":10648734,\"emails\":10234249}},\"4452\":{\"breachId\":4452,\"site\":\"edmodo.com\",\"recordsCount\":76010591,\"description\":\"In May 2017, Edmodo's user database was breached. The data allegedly contains over 77 million records, including usernames, email addresses, and salted bcrypt hashed passwords. While the instance of the breach has been highly publicised, the data itself is only being shared privately. An actor going by clay claims to have the database and has it listed for sale for a little over $1,000 on a few darknet marketplaces.\",\"publishDate\":\"2017-05-26T00:00:00Z\",\"statistics\":{\"usernames\":75972105,\"passwords\":74597209,\"emails\":43403884}},\"17822\":{\"breachId\":17822,\"site\":\"synergyregions.ru\",\"recordsCount\":449246,\"description\":\"At an unconfirmed date, the Russian university Университет синергия was allegedly breached. The stolen data contains passwords, usernames, email addresses and additional personal information. This breach is being privately shared on the internet.\",\"publishDate\":\"2020-07-16T00:00:00Z\",\"statistics\":{\"usernames\":4555,\"passwords\":449214,\"emails\":448860}},\"3772\":{\"breachId\":3772,\"site\":\"evony.com\",\"recordsCount\":32150217,\"description\":\"In July 2016, gaming site Evony's user database was breached. Over 33 million username and passwords were compromised including a number of associated Facebook login credentials. The breach became public in October 2016. Evony's user forum was also breached in August 2016. That seperate breach exposed an additional 938,000 user accounts. \",\"publishDate\":\"2017-04-04T00:00:00Z\",\"statistics\":{\"usernames\":4830394,\"passwords\":32148277,\"emails\":28697254}}},\"data\":{\"wattpad.com\":{\"star55@gmail.com\":[{\"breachId\":17830,\"usernameBreached\":true,\"passwordBreached\":true}]},\"myspace.com\":{\"star55@gmail.com\":[{\"breachId\":1,\"usernameBreached\":true,\"passwordBreached\":true}]},\"wishbone.io\":{\"star55@gmail.com\":[{\"breachId\":17670,\"usernameBreached\":true,\"passwordBreached\":true}]},\"dubsmash.com\":{\"star55@gmail.com\":[{\"breachId\":16587,\"usernameBreached\":true,\"passwordBreached\":true}]},\"edmodo.com\":{\"star55@gmail.com\":[{\"breachId\":4452,\"usernameBreached\":true,\"passwordBreached\":true}]},\"synergyregions.ru\":{\"star55@gmail.com\":[{\"breachId\":17822,\"usernameBreached\":true,\"passwordBreached\":true}]},\"evony.com\":{\"star55@gmail.com\":[{\"breachId\":3772,\"usernameBreached\":true,\"passwordBreached\":true}]}},\"summary\":{\"star55@gmail.com\":{\"breaches\":[16587,17830,1,17670,4452,17822,3772]}}}\n",
      "status_code 200\n",
      "reason OK\n",
      "text {\"breaches\":{\"16587\":{\"breachId\":16587,\"site\":\"dubsmash.com\",\"recordsCount\":161162574,\"description\":\"In December 2018, Dubsmash's database was allegedly breached. The stolen data contains usernames, passwords, email addresses and additional personal information. This breach is being privately shared on the internet.\",\"publishDate\":\"2019-03-07T00:00:00Z\",\"statistics\":{\"usernames\":159256428,\"passwords\":161154927,\"emails\":161146252}},\"17830\":{\"breachId\":17830,\"site\":\"wattpad.com\",\"recordsCount\":273322456,\"description\":\"In June 2020, the online writing community Wattpad was allegedly breached. The stolen data contains usernames, IPs, passwords, email addresses and additional personal information. This breach is being privately shared on the internet.\",\"publishDate\":\"2020-07-23T00:00:00Z\",\"statistics\":{\"usernames\":270846321,\"passwords\":192540751,\"emails\":273004868}}},\"data\":{\"dubsmash.com\":{\"wellknown@gmail.com\":[{\"breachId\":16587,\"usernameBreached\":true,\"passwordBreached\":true}]},\"wattpad.com\":{\"wellknown@gmail.com\":[{\"breachId\":17830,\"usernameBreached\":true,\"passwordBreached\":true}]}},\"summary\":{\"wellknown@gmail.com\":{\"breaches\":[16587,17830]}}}\n"
     ]
    },
    {
     "output_type": "execute_result",
     "data": {
      "text/plain": [
       "                 email                  date breach source  \\\n",
       "0       best00@mail.ru  2016-10-29T00:00:00Z        vk.com   \n",
       "0     star55@gmail.com  2019-03-07T00:00:00Z  dubsmash.com   \n",
       "0  wellknown@gmail.com  2019-03-07T00:00:00Z  dubsmash.com   \n",
       "\n",
       "                                         description  \n",
       "0  Popular Russian social networking platform VKo...  \n",
       "0  In December 2018, Dubsmash's database was alle...  \n",
       "0  In December 2018, Dubsmash's database was alle...  "
      ],
      "text/html": "<div>\n<style scoped>\n    .dataframe tbody tr th:only-of-type {\n        vertical-align: middle;\n    }\n\n    .dataframe tbody tr th {\n        vertical-align: top;\n    }\n\n    .dataframe thead th {\n        text-align: right;\n    }\n</style>\n<table border=\"1\" class=\"dataframe\">\n  <thead>\n    <tr style=\"text-align: right;\">\n      <th></th>\n      <th>email</th>\n      <th>date</th>\n      <th>breach source</th>\n      <th>description</th>\n    </tr>\n  </thead>\n  <tbody>\n    <tr>\n      <th>0</th>\n      <td>best00@mail.ru</td>\n      <td>2016-10-29T00:00:00Z</td>\n      <td>vk.com</td>\n      <td>Popular Russian social networking platform VKo...</td>\n    </tr>\n    <tr>\n      <th>0</th>\n      <td>star55@gmail.com</td>\n      <td>2019-03-07T00:00:00Z</td>\n      <td>dubsmash.com</td>\n      <td>In December 2018, Dubsmash's database was alle...</td>\n    </tr>\n    <tr>\n      <th>0</th>\n      <td>wellknown@gmail.com</td>\n      <td>2019-03-07T00:00:00Z</td>\n      <td>dubsmash.com</td>\n      <td>In December 2018, Dubsmash's database was alle...</td>\n    </tr>\n  </tbody>\n</table>\n</div>"
     },
     "metadata": {},
     "execution_count": 263
    }
   ],
   "source": [
    "get_hack_check_df(AVAST_URL, EMAILS)"
   ]
  },
  {
   "cell_type": "markdown",
   "metadata": {},
   "source": [
    "### Дополнительная часть (необязательная)"
   ]
  },
  {
   "cell_type": "markdown",
   "metadata": {},
   "source": [
    "Написать скрипт, который будет получать 50 последних постов указанной группы во Вконтакте.  \n",
    "Документация к API VK: https://vk.com/dev/methods\n",
    ", вам поможет метод [wall.get](https://vk.com/dev/wall.get)  \n",
    "```\n",
    "GROUP = 'netology'  \n",
    "TOKEN = УДАЛЯЙТЕ В ВЕРСИИ ДЛЯ ПРОВЕРКИ, НА GITHUB НЕ ВЫКЛАДЫВАТЬ  \n",
    "```\n",
    "\n",
    "В итоге должен формироваться датафрейм со столбцами: `<дата поста> - <текст поста>`"
   ]
  },
  {
   "cell_type": "code",
   "execution_count": 260,
   "metadata": {},
   "outputs": [],
   "source": [
    "GROUP = 'netology'  \n",
    "TOKEN = 'MY_SECURE_TOKEN'\n",
    "URL = \"https://api.vk.com/method/wall.get\""
   ]
  },
  {
   "cell_type": "code",
   "execution_count": 273,
   "metadata": {},
   "outputs": [],
   "source": [
    "params = {\n",
    "    'access_token': TOKEN,\n",
    "    'domain': GROUP,\n",
    "    'v': '5.84'\n",
    "    }\n",
    "resp = requests.get(URL, params)"
   ]
  },
  {
   "cell_type": "code",
   "execution_count": 274,
   "metadata": {},
   "outputs": [
    {
     "output_type": "execute_result",
     "data": {
      "text/plain": [
       "      id   from_id  owner_id        date  marked_as_ads post_type  \\\n",
       "0  80448 -30159897 -30159897  1615987503              0      post   \n",
       "1  81140 -30159897 -30159897  1616570820              0      post   \n",
       "2  81120 -30159897 -30159897  1616508960              0      post   \n",
       "3  81106 -30159897 -30159897  1616487360              0      post   \n",
       "4  81008 -30159897 -30159897  1616424360              0      post   \n",
       "\n",
       "                                                text  is_pinned  \\\n",
       "0  Весна — лучшее время для перемен. Чтобы узнать...        1.0   \n",
       "1  🚀 Запустили бесплатный курс «Основы Figma» \\n ...        NaN   \n",
       "2  Если вы знаете английский язык — у вас могут б...        NaN   \n",
       "3  В новом выпуске НетоNews обсудим изменение поз...        NaN   \n",
       "4  Что общего между лентой новостей в Инстаграм и...        NaN   \n",
       "\n",
       "                                         attachments        comments  \\\n",
       "0  [{'type': 'photo', 'photo': {'album_id': -7, '...  {'count': 566}   \n",
       "1  [{'type': 'link', 'link': {'url': 'https://net...    {'count': 0}   \n",
       "2  [{'type': 'photo', 'photo': {'album_id': -7, '...    {'count': 1}   \n",
       "3  [{'type': 'link', 'link': {'url': 'https://net...    {'count': 0}   \n",
       "4  [{'type': 'link', 'link': {'url': 'https://net...    {'count': 0}   \n",
       "\n",
       "           likes       reposts            views  \n",
       "0  {'count': 23}  {'count': 8}  {'count': 4275}  \n",
       "1   {'count': 5}  {'count': 3}   {'count': 333}  \n",
       "2   {'count': 7}  {'count': 3}  {'count': 1547}  \n",
       "3   {'count': 6}  {'count': 1}  {'count': 1511}  \n",
       "4   {'count': 8}  {'count': 5}  {'count': 2054}  "
      ],
      "text/html": "<div>\n<style scoped>\n    .dataframe tbody tr th:only-of-type {\n        vertical-align: middle;\n    }\n\n    .dataframe tbody tr th {\n        vertical-align: top;\n    }\n\n    .dataframe thead th {\n        text-align: right;\n    }\n</style>\n<table border=\"1\" class=\"dataframe\">\n  <thead>\n    <tr style=\"text-align: right;\">\n      <th></th>\n      <th>id</th>\n      <th>from_id</th>\n      <th>owner_id</th>\n      <th>date</th>\n      <th>marked_as_ads</th>\n      <th>post_type</th>\n      <th>text</th>\n      <th>is_pinned</th>\n      <th>attachments</th>\n      <th>comments</th>\n      <th>likes</th>\n      <th>reposts</th>\n      <th>views</th>\n    </tr>\n  </thead>\n  <tbody>\n    <tr>\n      <th>0</th>\n      <td>80448</td>\n      <td>-30159897</td>\n      <td>-30159897</td>\n      <td>1615987503</td>\n      <td>0</td>\n      <td>post</td>\n      <td>Весна — лучшее время для перемен. Чтобы узнать...</td>\n      <td>1.0</td>\n      <td>[{'type': 'photo', 'photo': {'album_id': -7, '...</td>\n      <td>{'count': 566}</td>\n      <td>{'count': 23}</td>\n      <td>{'count': 8}</td>\n      <td>{'count': 4275}</td>\n    </tr>\n    <tr>\n      <th>1</th>\n      <td>81140</td>\n      <td>-30159897</td>\n      <td>-30159897</td>\n      <td>1616570820</td>\n      <td>0</td>\n      <td>post</td>\n      <td>🚀 Запустили бесплатный курс «Основы Figma» \\n ...</td>\n      <td>NaN</td>\n      <td>[{'type': 'link', 'link': {'url': 'https://net...</td>\n      <td>{'count': 0}</td>\n      <td>{'count': 5}</td>\n      <td>{'count': 3}</td>\n      <td>{'count': 333}</td>\n    </tr>\n    <tr>\n      <th>2</th>\n      <td>81120</td>\n      <td>-30159897</td>\n      <td>-30159897</td>\n      <td>1616508960</td>\n      <td>0</td>\n      <td>post</td>\n      <td>Если вы знаете английский язык — у вас могут б...</td>\n      <td>NaN</td>\n      <td>[{'type': 'photo', 'photo': {'album_id': -7, '...</td>\n      <td>{'count': 1}</td>\n      <td>{'count': 7}</td>\n      <td>{'count': 3}</td>\n      <td>{'count': 1547}</td>\n    </tr>\n    <tr>\n      <th>3</th>\n      <td>81106</td>\n      <td>-30159897</td>\n      <td>-30159897</td>\n      <td>1616487360</td>\n      <td>0</td>\n      <td>post</td>\n      <td>В новом выпуске НетоNews обсудим изменение поз...</td>\n      <td>NaN</td>\n      <td>[{'type': 'link', 'link': {'url': 'https://net...</td>\n      <td>{'count': 0}</td>\n      <td>{'count': 6}</td>\n      <td>{'count': 1}</td>\n      <td>{'count': 1511}</td>\n    </tr>\n    <tr>\n      <th>4</th>\n      <td>81008</td>\n      <td>-30159897</td>\n      <td>-30159897</td>\n      <td>1616424360</td>\n      <td>0</td>\n      <td>post</td>\n      <td>Что общего между лентой новостей в Инстаграм и...</td>\n      <td>NaN</td>\n      <td>[{'type': 'link', 'link': {'url': 'https://net...</td>\n      <td>{'count': 0}</td>\n      <td>{'count': 8}</td>\n      <td>{'count': 5}</td>\n      <td>{'count': 2054}</td>\n    </tr>\n  </tbody>\n</table>\n</div>"
     },
     "metadata": {},
     "execution_count": 274
    }
   ],
   "source": [
    "vk_df = pd.DataFrame(resp.json()['response']['items'])\n",
    "vk_df.head()"
   ]
  },
  {
   "cell_type": "code",
   "execution_count": 275,
   "metadata": {},
   "outputs": [
    {
     "output_type": "execute_result",
     "data": {
      "text/plain": [
       "         date                                               text\n",
       "0  1615987503  Весна — лучшее время для перемен. Чтобы узнать...\n",
       "1  1616570820  🚀 Запустили бесплатный курс «Основы Figma» \\n ...\n",
       "2  1616508960  Если вы знаете английский язык — у вас могут б...\n",
       "3  1616487360  В новом выпуске НетоNews обсудим изменение поз...\n",
       "4  1616424360  Что общего между лентой новостей в Инстаграм и..."
      ],
      "text/html": "<div>\n<style scoped>\n    .dataframe tbody tr th:only-of-type {\n        vertical-align: middle;\n    }\n\n    .dataframe tbody tr th {\n        vertical-align: top;\n    }\n\n    .dataframe thead th {\n        text-align: right;\n    }\n</style>\n<table border=\"1\" class=\"dataframe\">\n  <thead>\n    <tr style=\"text-align: right;\">\n      <th></th>\n      <th>date</th>\n      <th>text</th>\n    </tr>\n  </thead>\n  <tbody>\n    <tr>\n      <th>0</th>\n      <td>1615987503</td>\n      <td>Весна — лучшее время для перемен. Чтобы узнать...</td>\n    </tr>\n    <tr>\n      <th>1</th>\n      <td>1616570820</td>\n      <td>🚀 Запустили бесплатный курс «Основы Figma» \\n ...</td>\n    </tr>\n    <tr>\n      <th>2</th>\n      <td>1616508960</td>\n      <td>Если вы знаете английский язык — у вас могут б...</td>\n    </tr>\n    <tr>\n      <th>3</th>\n      <td>1616487360</td>\n      <td>В новом выпуске НетоNews обсудим изменение поз...</td>\n    </tr>\n    <tr>\n      <th>4</th>\n      <td>1616424360</td>\n      <td>Что общего между лентой новостей в Инстаграм и...</td>\n    </tr>\n  </tbody>\n</table>\n</div>"
     },
     "metadata": {},
     "execution_count": 275
    }
   ],
   "source": [
    "vk_df[['date','text']].head()"
   ]
  },
  {
   "cell_type": "markdown",
   "metadata": {},
   "source": [
    "#### ПРИМЕЧАНИЕ\n",
    "Домашнее задание сдается ссылкой на репозиторий [GitHub](https://github.com/).\n",
    "Не сможем проверить или помочь, если вы пришлете:\n",
    "- файлы;\n",
    "- архивы;\n",
    "- скриншоты кода.\n",
    "\n",
    "Все обсуждения и консультации по выполнению домашнего задания ведутся только на соответствующем канале в slack.\n",
    "\n",
    "##### Как правильно задавать вопросы аспирантам, преподавателям и коллегам?\n",
    "Прежде чем задать вопрос необходимо попробовать найти ответ самому в интернете. Навык самостоятельного поиска информации – один из важнейших, и каждый практикующий специалист любого уровня это делает каждый день.\n",
    "\n",
    "Любой вопрос должен быть сформулирован по алгоритму:  \n",
    "1) Что я делаю?  \n",
    "2) Какого результата я ожидаю?  \n",
    "3) Как фактический результат отличается от ожидаемого?  \n",
    "4) Что я уже попробовал сделать, чтобы исправить проблему?  \n",
    "\n",
    "По возможности, прикрепляйте к вопросу скриншоты, либо ссылки на код. Оставляйте только проблемный и воспроизводимый участок кода, все решение выкладывать не допускается.\n"
   ]
  }
 ],
 "metadata": {
  "kernelspec": {
   "display_name": "Python 3",
   "language": "python",
   "name": "python3"
  },
  "language_info": {
   "codemirror_mode": {
    "name": "ipython",
    "version": 3
   },
   "file_extension": ".py",
   "mimetype": "text/x-python",
   "name": "python",
   "nbconvert_exporter": "python",
   "pygments_lexer": "ipython3",
   "version": "3.8.5-final"
  }
 },
 "nbformat": 4,
 "nbformat_minor": 2
}