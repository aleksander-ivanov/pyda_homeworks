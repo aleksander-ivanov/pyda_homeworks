{
 "metadata": {
  "language_info": {
   "codemirror_mode": {
    "name": "ipython",
    "version": 3
   },
   "file_extension": ".py",
   "mimetype": "text/x-python",
   "name": "python",
   "nbconvert_exporter": "python",
   "pygments_lexer": "ipython3",
   "version": "3.8.5-final"
  },
  "orig_nbformat": 2,
  "kernelspec": {
   "name": "python3",
   "display_name": "Python 3",
   "language": "python"
  }
 },
 "nbformat": 4,
 "nbformat_minor": 2,
 "cells": [
  {
   "source": [
    "# Домашнее задание «Библиотека Pandas»\n"
   ],
   "cell_type": "markdown",
   "metadata": {}
  },
  {
   "source": [
    "### Задание 1\n",
    "Скачайте с сайта https://grouplens.org/datasets/movielens/ датасет любого размера. Определите какому фильму было выставлено больше всего оценок 5.0."
   ],
   "cell_type": "markdown",
   "metadata": {}
  },
  {
   "cell_type": "code",
   "execution_count": 91,
   "metadata": {},
   "outputs": [],
   "source": [
    "import pandas as pd"
   ]
  },
  {
   "cell_type": "code",
   "execution_count": 92,
   "metadata": {},
   "outputs": [
    {
     "output_type": "execute_result",
     "data": {
      "text/plain": [
       "   movieId  rating\n",
       "0      296     5.0\n",
       "1      306     3.5\n",
       "2      307     5.0\n",
       "3      665     5.0\n",
       "4      899     3.5"
      ],
      "text/html": "<div>\n<style scoped>\n    .dataframe tbody tr th:only-of-type {\n        vertical-align: middle;\n    }\n\n    .dataframe tbody tr th {\n        vertical-align: top;\n    }\n\n    .dataframe thead th {\n        text-align: right;\n    }\n</style>\n<table border=\"1\" class=\"dataframe\">\n  <thead>\n    <tr style=\"text-align: right;\">\n      <th></th>\n      <th>movieId</th>\n      <th>rating</th>\n    </tr>\n  </thead>\n  <tbody>\n    <tr>\n      <th>0</th>\n      <td>296</td>\n      <td>5.0</td>\n    </tr>\n    <tr>\n      <th>1</th>\n      <td>306</td>\n      <td>3.5</td>\n    </tr>\n    <tr>\n      <th>2</th>\n      <td>307</td>\n      <td>5.0</td>\n    </tr>\n    <tr>\n      <th>3</th>\n      <td>665</td>\n      <td>5.0</td>\n    </tr>\n    <tr>\n      <th>4</th>\n      <td>899</td>\n      <td>3.5</td>\n    </tr>\n  </tbody>\n</table>\n</div>"
     },
     "metadata": {},
     "execution_count": 92
    }
   ],
   "source": [
    "ratings_df = pd.read_csv('data/ml-25m/ratings.csv', usecols=['movieId', 'rating'])\n",
    "ratings_df.head()"
   ]
  },
  {
   "cell_type": "code",
   "execution_count": 56,
   "metadata": {},
   "outputs": [
    {
     "output_type": "execute_result",
     "data": {
      "text/plain": [
       "   movieId                               title\n",
       "0        1                    Toy Story (1995)\n",
       "1        2                      Jumanji (1995)\n",
       "2        3             Grumpier Old Men (1995)\n",
       "3        4            Waiting to Exhale (1995)\n",
       "4        5  Father of the Bride Part II (1995)"
      ],
      "text/html": "<div>\n<style scoped>\n    .dataframe tbody tr th:only-of-type {\n        vertical-align: middle;\n    }\n\n    .dataframe tbody tr th {\n        vertical-align: top;\n    }\n\n    .dataframe thead th {\n        text-align: right;\n    }\n</style>\n<table border=\"1\" class=\"dataframe\">\n  <thead>\n    <tr style=\"text-align: right;\">\n      <th></th>\n      <th>movieId</th>\n      <th>title</th>\n    </tr>\n  </thead>\n  <tbody>\n    <tr>\n      <th>0</th>\n      <td>1</td>\n      <td>Toy Story (1995)</td>\n    </tr>\n    <tr>\n      <th>1</th>\n      <td>2</td>\n      <td>Jumanji (1995)</td>\n    </tr>\n    <tr>\n      <th>2</th>\n      <td>3</td>\n      <td>Grumpier Old Men (1995)</td>\n    </tr>\n    <tr>\n      <th>3</th>\n      <td>4</td>\n      <td>Waiting to Exhale (1995)</td>\n    </tr>\n    <tr>\n      <th>4</th>\n      <td>5</td>\n      <td>Father of the Bride Part II (1995)</td>\n    </tr>\n  </tbody>\n</table>\n</div>"
     },
     "metadata": {},
     "execution_count": 56
    }
   ],
   "source": [
    "movies_df = pd.read_csv('data/ml-25m/movies.csv', usecols=['movieId', 'title'])\n",
    "movies_df.head()"
   ]
  },
  {
   "cell_type": "code",
   "execution_count": 57,
   "metadata": {},
   "outputs": [
    {
     "output_type": "execute_result",
     "data": {
      "text/plain": [
       "   movieId  rating                                             title\n",
       "0      296     5.0                               Pulp Fiction (1994)\n",
       "1      306     3.5  Three Colors: Red (Trois couleurs: Rouge) (1994)\n",
       "2      307     5.0  Three Colors: Blue (Trois couleurs: Bleu) (1993)\n",
       "3      665     5.0                                Underground (1995)\n",
       "4      899     3.5                        Singin' in the Rain (1952)"
      ],
      "text/html": "<div>\n<style scoped>\n    .dataframe tbody tr th:only-of-type {\n        vertical-align: middle;\n    }\n\n    .dataframe tbody tr th {\n        vertical-align: top;\n    }\n\n    .dataframe thead th {\n        text-align: right;\n    }\n</style>\n<table border=\"1\" class=\"dataframe\">\n  <thead>\n    <tr style=\"text-align: right;\">\n      <th></th>\n      <th>movieId</th>\n      <th>rating</th>\n      <th>title</th>\n    </tr>\n  </thead>\n  <tbody>\n    <tr>\n      <th>0</th>\n      <td>296</td>\n      <td>5.0</td>\n      <td>Pulp Fiction (1994)</td>\n    </tr>\n    <tr>\n      <th>1</th>\n      <td>306</td>\n      <td>3.5</td>\n      <td>Three Colors: Red (Trois couleurs: Rouge) (1994)</td>\n    </tr>\n    <tr>\n      <th>2</th>\n      <td>307</td>\n      <td>5.0</td>\n      <td>Three Colors: Blue (Trois couleurs: Bleu) (1993)</td>\n    </tr>\n    <tr>\n      <th>3</th>\n      <td>665</td>\n      <td>5.0</td>\n      <td>Underground (1995)</td>\n    </tr>\n    <tr>\n      <th>4</th>\n      <td>899</td>\n      <td>3.5</td>\n      <td>Singin' in the Rain (1952)</td>\n    </tr>\n  </tbody>\n</table>\n</div>"
     },
     "metadata": {},
     "execution_count": 57
    }
   ],
   "source": [
    "\n",
    "high_rated_movies = ratings_df.merge(movies_df, on='movieId', how='left') # left join, we don't need not rated movies\n",
    "\n",
    "high_rated_movies.head()\n"
   ]
  },
  {
   "cell_type": "code",
   "execution_count": 69,
   "metadata": {},
   "outputs": [
    {
     "output_type": "execute_result",
     "data": {
      "text/plain": [
       "209171"
      ]
     },
     "metadata": {},
     "execution_count": 69
    }
   ],
   "source": [
    "max_rated_movie_id = high_rated_movies.groupby('movieId').count()['rating'].index.values.max()\n",
    "max_rated_movie_id"
   ]
  },
  {
   "cell_type": "code",
   "execution_count": 83,
   "metadata": {},
   "outputs": [
    {
     "output_type": "stream",
     "name": "stdout",
     "text": [
      "Most rated movie is \"Women of Devil's Island (1962)\"\n"
     ]
    }
   ],
   "source": [
    "result_df = high_rated_movies[high_rated_movies['movieId'] == max_rated_movie_id]\n",
    "movie_title = result_df['title'].values[0]\n",
    "print(f'Most rated movie is \"{movie_title}\"')"
   ]
  },
  {
   "source": [
    "### Задание 2\n",
    "По данным файла power.csv посчитайте суммарное потребление стран Прибалтики (Латвия, Литва и Эстония) категорий 4, 12 и 21 за период с 2005 по 2010 года. Не учитывайте в расчетах отрицательные значения quantity."
   ],
   "cell_type": "markdown",
   "metadata": {}
  },
  {
   "cell_type": "code",
   "execution_count": 85,
   "metadata": {},
   "outputs": [
    {
     "output_type": "execute_result",
     "data": {
      "text/plain": [
       "   country  year  quantity  category\n",
       "0  Austria  1996       5.0         1\n",
       "1  Austria  1995      17.0         1\n",
       "2  Belgium  2014       0.0         1\n",
       "3  Belgium  2013       0.0         1\n",
       "4  Belgium  2012      35.0         1"
      ],
      "text/html": "<div>\n<style scoped>\n    .dataframe tbody tr th:only-of-type {\n        vertical-align: middle;\n    }\n\n    .dataframe tbody tr th {\n        vertical-align: top;\n    }\n\n    .dataframe thead th {\n        text-align: right;\n    }\n</style>\n<table border=\"1\" class=\"dataframe\">\n  <thead>\n    <tr style=\"text-align: right;\">\n      <th></th>\n      <th>country</th>\n      <th>year</th>\n      <th>quantity</th>\n      <th>category</th>\n    </tr>\n  </thead>\n  <tbody>\n    <tr>\n      <th>0</th>\n      <td>Austria</td>\n      <td>1996</td>\n      <td>5.0</td>\n      <td>1</td>\n    </tr>\n    <tr>\n      <th>1</th>\n      <td>Austria</td>\n      <td>1995</td>\n      <td>17.0</td>\n      <td>1</td>\n    </tr>\n    <tr>\n      <th>2</th>\n      <td>Belgium</td>\n      <td>2014</td>\n      <td>0.0</td>\n      <td>1</td>\n    </tr>\n    <tr>\n      <th>3</th>\n      <td>Belgium</td>\n      <td>2013</td>\n      <td>0.0</td>\n      <td>1</td>\n    </tr>\n    <tr>\n      <th>4</th>\n      <td>Belgium</td>\n      <td>2012</td>\n      <td>35.0</td>\n      <td>1</td>\n    </tr>\n  </tbody>\n</table>\n</div>"
     },
     "metadata": {},
     "execution_count": 85
    }
   ],
   "source": [
    "power_df = pd.read_csv('data/power.csv')\n",
    "power_df.head()"
   ]
  },
  {
   "cell_type": "code",
   "execution_count": 109,
   "metadata": {},
   "outputs": [
    {
     "output_type": "stream",
     "name": "stdout",
     "text": [
      "<class 'pandas.core.frame.DataFrame'>\nRangeIndex: 1189482 entries, 0 to 1189481\nData columns (total 4 columns):\n #   Column    Non-Null Count    Dtype  \n---  ------    --------------    -----  \n 0   country   1189482 non-null  object \n 1   year      1189482 non-null  int64  \n 2   quantity  1189482 non-null  float64\n 3   category  1189482 non-null  int64  \ndtypes: float64(1), int64(2), object(1)\nmemory usage: 36.3+ MB\n"
     ]
    }
   ],
   "source": [
    "power_df.info()"
   ]
  },
  {
   "cell_type": "code",
   "execution_count": 111,
   "metadata": {},
   "outputs": [
    {
     "output_type": "execute_result",
     "data": {
      "text/plain": [
       "               year      quantity      category\n",
       "count  1.189482e+06  1.189482e+06  1.189482e+06\n",
       "mean   2.002852e+03  1.842648e+05  3.624763e+01\n",
       "std    7.167345e+00  1.585663e+07  1.809968e+01\n",
       "min    1.990000e+03 -8.643480e+05  1.000000e+00\n",
       "25%    1.997000e+03  1.400000e+01  2.400000e+01\n",
       "50%    2.003000e+03  1.890000e+02  3.500000e+01\n",
       "75%    2.009000e+03  2.265000e+03  5.100000e+01\n",
       "max    2.014000e+03  6.680329e+09  7.100000e+01"
      ],
      "text/html": "<div>\n<style scoped>\n    .dataframe tbody tr th:only-of-type {\n        vertical-align: middle;\n    }\n\n    .dataframe tbody tr th {\n        vertical-align: top;\n    }\n\n    .dataframe thead th {\n        text-align: right;\n    }\n</style>\n<table border=\"1\" class=\"dataframe\">\n  <thead>\n    <tr style=\"text-align: right;\">\n      <th></th>\n      <th>year</th>\n      <th>quantity</th>\n      <th>category</th>\n    </tr>\n  </thead>\n  <tbody>\n    <tr>\n      <th>count</th>\n      <td>1.189482e+06</td>\n      <td>1.189482e+06</td>\n      <td>1.189482e+06</td>\n    </tr>\n    <tr>\n      <th>mean</th>\n      <td>2.002852e+03</td>\n      <td>1.842648e+05</td>\n      <td>3.624763e+01</td>\n    </tr>\n    <tr>\n      <th>std</th>\n      <td>7.167345e+00</td>\n      <td>1.585663e+07</td>\n      <td>1.809968e+01</td>\n    </tr>\n    <tr>\n      <th>min</th>\n      <td>1.990000e+03</td>\n      <td>-8.643480e+05</td>\n      <td>1.000000e+00</td>\n    </tr>\n    <tr>\n      <th>25%</th>\n      <td>1.997000e+03</td>\n      <td>1.400000e+01</td>\n      <td>2.400000e+01</td>\n    </tr>\n    <tr>\n      <th>50%</th>\n      <td>2.003000e+03</td>\n      <td>1.890000e+02</td>\n      <td>3.500000e+01</td>\n    </tr>\n    <tr>\n      <th>75%</th>\n      <td>2.009000e+03</td>\n      <td>2.265000e+03</td>\n      <td>5.100000e+01</td>\n    </tr>\n    <tr>\n      <th>max</th>\n      <td>2.014000e+03</td>\n      <td>6.680329e+09</td>\n      <td>7.100000e+01</td>\n    </tr>\n  </tbody>\n</table>\n</div>"
     },
     "metadata": {},
     "execution_count": 111
    }
   ],
   "source": [
    "power_df.describe()"
   ]
  },
  {
   "cell_type": "code",
   "execution_count": 125,
   "metadata": {},
   "outputs": [
    {
     "output_type": "execute_result",
     "data": {
      "text/plain": [
       "         country  year  quantity  category\n",
       "10617    Estonia  2008       1.0         4\n",
       "10620    Estonia  2005       1.0         4\n",
       "11156  Lithuania  2008       1.0         4\n",
       "11158  Lithuania  2006       1.0         4\n",
       "11159  Lithuania  2005       1.0         4"
      ],
      "text/html": "<div>\n<style scoped>\n    .dataframe tbody tr th:only-of-type {\n        vertical-align: middle;\n    }\n\n    .dataframe tbody tr th {\n        vertical-align: top;\n    }\n\n    .dataframe thead th {\n        text-align: right;\n    }\n</style>\n<table border=\"1\" class=\"dataframe\">\n  <thead>\n    <tr style=\"text-align: right;\">\n      <th></th>\n      <th>country</th>\n      <th>year</th>\n      <th>quantity</th>\n      <th>category</th>\n    </tr>\n  </thead>\n  <tbody>\n    <tr>\n      <th>10617</th>\n      <td>Estonia</td>\n      <td>2008</td>\n      <td>1.0</td>\n      <td>4</td>\n    </tr>\n    <tr>\n      <th>10620</th>\n      <td>Estonia</td>\n      <td>2005</td>\n      <td>1.0</td>\n      <td>4</td>\n    </tr>\n    <tr>\n      <th>11156</th>\n      <td>Lithuania</td>\n      <td>2008</td>\n      <td>1.0</td>\n      <td>4</td>\n    </tr>\n    <tr>\n      <th>11158</th>\n      <td>Lithuania</td>\n      <td>2006</td>\n      <td>1.0</td>\n      <td>4</td>\n    </tr>\n    <tr>\n      <th>11159</th>\n      <td>Lithuania</td>\n      <td>2005</td>\n      <td>1.0</td>\n      <td>4</td>\n    </tr>\n  </tbody>\n</table>\n</div>"
     },
     "metadata": {},
     "execution_count": 125
    }
   ],
   "source": [
    "country_condition = (power_df['country']=='Latvia') | (power_df['country']=='Lithuania') | (power_df['country']=='Estonia')\n",
    "category_condition = (power_df['category']==4) | (power_df['category']==12) | (power_df['category']==21)\n",
    "year_query = '2005 <= year <= 2010'\n",
    "quantity_query = 'quantity > 0'\n",
    "\n",
    "filtered_power = power_df[ country_condition & category_condition ].query(year_query).query(quantity_query)\n",
    "\n",
    "filtered_power.head()"
   ]
  },
  {
   "cell_type": "code",
   "execution_count": 132,
   "metadata": {},
   "outputs": [
    {
     "output_type": "stream",
     "name": "stdout",
     "text": [
      "Суммарное потребление электроэнергии странами Прибалтики - 240580.0 МВт\n"
     ]
    }
   ],
   "source": [
    "sum_power = filtered_power['quantity'].values.sum()\n",
    "print(f'Суммарное потребление электроэнергии странами Прибалтики - {sum_power} МВт')"
   ]
  },
  {
   "source": [
    "### Задание 3\n",
    "Выберите страницу любого сайта с табличными данными. Импортируйте таблицы в pandas dataframe.\n",
    "Примеры страниц (необязательно брать именно эти):\n",
    "https://fortrader.org/quotes\n",
    "https://www.finanz.ru/valyuty/v-realnom-vremeni"
   ],
   "cell_type": "markdown",
   "metadata": {}
  },
  {
   "cell_type": "code",
   "execution_count": 141,
   "metadata": {},
   "outputs": [
    {
     "output_type": "execute_result",
     "data": {
      "text/plain": [
       "1"
      ]
     },
     "metadata": {},
     "execution_count": 141
    }
   ],
   "source": [
    "currency_rates_url = 'https://www.exchangerates.org.uk/currency/currency-exchange-rates-table.html'\n",
    "currency_rates = pd.read_html(currency_rates_url)\n",
    "len(currency_rates)"
   ]
  },
  {
   "cell_type": "code",
   "execution_count": 142,
   "metadata": {},
   "outputs": [
    {
     "output_type": "execute_result",
     "data": {
      "text/plain": [
       "   0                1               2   \\\n",
       "0 NaN              NaN             NaN   \n",
       "1 NaN  1 GBP= Inverse:    1.00001.0000   \n",
       "2 NaN  1 EUR= Inverse:     0.85691.167   \n",
       "3 NaN  1 USD= Inverse:    0.71471.3992   \n",
       "4 NaN  1 JPY= Inverse:  0.0066151.7246   \n",
       "\n",
       "                                              3               4   \\\n",
       "0  £Click for British Pound exchange rates...GBP             NaN   \n",
       "1                                   1.00001.0000     1.1670.8569   \n",
       "2                                    0.85691.167    1.00001.0000   \n",
       "3                                   0.71471.3992      0.8341.199   \n",
       "4                                 0.0066151.7246  0.0077130.0115   \n",
       "\n",
       "                                     5               6   \\\n",
       "0  €Click for Euro exchange rates...EUR             NaN   \n",
       "1                           1.1670.8569    1.39920.7147   \n",
       "2                          1.00001.0000      1.1990.834   \n",
       "3                            0.8341.199    1.00001.0000   \n",
       "4                        0.0077130.0115  0.0092108.4355   \n",
       "\n",
       "                                          7               8   \\\n",
       "0  $Click for US Dollar exchange rates...USD             NaN   \n",
       "1                               1.39920.7147  151.72460.0066   \n",
       "2                                 1.1990.834  130.01150.0077   \n",
       "3                               1.00001.0000  108.43550.0092   \n",
       "4                             0.0092108.4355    1.00001.0000   \n",
       "\n",
       "                                             9               10  \\\n",
       "0  ¥Click for Japanese Yen exchange rates...JPY             NaN   \n",
       "1                                151.72460.0066    1.29280.7735   \n",
       "2                                130.01150.0077    1.10780.9027   \n",
       "3                                108.43550.0092     0.9241.0823   \n",
       "4                                  1.00001.0000  0.0085117.3602   \n",
       "\n",
       "                                              11             12  \\\n",
       "0  CHFClick for Swiss Franc exchange rates...CHF            NaN   \n",
       "1                                   1.29280.7735   1.75180.5708   \n",
       "2                                   1.10780.9027   1.50110.6662   \n",
       "3                                    0.9241.0823    1.2520.7987   \n",
       "4                                 0.0085117.3602  0.011586.6088   \n",
       "\n",
       "                                                13             14  \\\n",
       "0  $Click for Canadian Dollar exchange rates...CAD            NaN   \n",
       "1                                     1.75180.5708    1.79530.557   \n",
       "2                                     1.50110.6662     1.53840.65   \n",
       "3                                      1.2520.7987   1.28310.7794   \n",
       "4                                    0.011586.6088  0.011884.5104   \n",
       "\n",
       "                                                  15             16  \\\n",
       "0  $Click for Australian Dollar exchange rates...AUD            NaN   \n",
       "1                                        1.79530.557   1.93470.5169   \n",
       "2                                         1.53840.65   1.65780.6032   \n",
       "3                                       1.28310.7794   1.38270.7232   \n",
       "4                                      0.011884.5104  0.012878.4222   \n",
       "\n",
       "                                                  17              18  \\\n",
       "0  $Click for New Zealand Dollar exchange rates.....             NaN   \n",
       "1                                       1.93470.5169  102.61310.0097   \n",
       "2                                       1.65780.6032   87.92830.0114   \n",
       "3                                       1.38270.7232   73.33620.0136   \n",
       "4                                      0.012878.4222    0.67631.4786   \n",
       "\n",
       "                                               19             20  \\\n",
       "0  ₽Click for Russian Rouble exchange rates...RUB            NaN   \n",
       "1                                  102.61310.0097  20.75590.0482   \n",
       "2                                   87.92830.0114  17.78550.0562   \n",
       "3                                   73.33620.0136   14.8340.0674   \n",
       "4                                    0.67631.4786     0.13687.31   \n",
       "\n",
       "                                                  21             22  \\\n",
       "0  RClick for South African Rand exchange rates.....            NaN   \n",
       "1                                      20.75590.0482  28.81190.0347   \n",
       "2                                      17.78550.0562  24.68870.0405   \n",
       "3                                       14.8340.0674  20.59150.0486   \n",
       "4                                         0.13687.31    0.18995.266   \n",
       "\n",
       "                                             23             24  \\\n",
       "0  $Click for Mexican Peso exchange rates...MXN            NaN   \n",
       "1                                 28.81190.0347   5.13510.1947   \n",
       "2                                 24.68870.0405   4.40020.2273   \n",
       "3                                 20.59150.0486     3.670.2725   \n",
       "4                                   0.18995.266  0.033829.5465   \n",
       "\n",
       "                                                  25  \n",
       "0  Click for United Arab Emirates Dirham exchange...  \n",
       "1                                       5.13510.1947  \n",
       "2                                       4.40020.2273  \n",
       "3                                         3.670.2725  \n",
       "4                                      0.033829.5465  "
      ],
      "text/html": "<div>\n<style scoped>\n    .dataframe tbody tr th:only-of-type {\n        vertical-align: middle;\n    }\n\n    .dataframe tbody tr th {\n        vertical-align: top;\n    }\n\n    .dataframe thead th {\n        text-align: right;\n    }\n</style>\n<table border=\"1\" class=\"dataframe\">\n  <thead>\n    <tr style=\"text-align: right;\">\n      <th></th>\n      <th>0</th>\n      <th>1</th>\n      <th>2</th>\n      <th>3</th>\n      <th>4</th>\n      <th>5</th>\n      <th>6</th>\n      <th>7</th>\n      <th>8</th>\n      <th>9</th>\n      <th>10</th>\n      <th>11</th>\n      <th>12</th>\n      <th>13</th>\n      <th>14</th>\n      <th>15</th>\n      <th>16</th>\n      <th>17</th>\n      <th>18</th>\n      <th>19</th>\n      <th>20</th>\n      <th>21</th>\n      <th>22</th>\n      <th>23</th>\n      <th>24</th>\n      <th>25</th>\n    </tr>\n  </thead>\n  <tbody>\n    <tr>\n      <th>0</th>\n      <td>NaN</td>\n      <td>NaN</td>\n      <td>NaN</td>\n      <td>£Click for British Pound exchange rates...GBP</td>\n      <td>NaN</td>\n      <td>€Click for Euro exchange rates...EUR</td>\n      <td>NaN</td>\n      <td>$Click for US Dollar exchange rates...USD</td>\n      <td>NaN</td>\n      <td>¥Click for Japanese Yen exchange rates...JPY</td>\n      <td>NaN</td>\n      <td>CHFClick for Swiss Franc exchange rates...CHF</td>\n      <td>NaN</td>\n      <td>$Click for Canadian Dollar exchange rates...CAD</td>\n      <td>NaN</td>\n      <td>$Click for Australian Dollar exchange rates...AUD</td>\n      <td>NaN</td>\n      <td>$Click for New Zealand Dollar exchange rates.....</td>\n      <td>NaN</td>\n      <td>₽Click for Russian Rouble exchange rates...RUB</td>\n      <td>NaN</td>\n      <td>RClick for South African Rand exchange rates.....</td>\n      <td>NaN</td>\n      <td>$Click for Mexican Peso exchange rates...MXN</td>\n      <td>NaN</td>\n      <td>Click for United Arab Emirates Dirham exchange...</td>\n    </tr>\n    <tr>\n      <th>1</th>\n      <td>NaN</td>\n      <td>1 GBP= Inverse:</td>\n      <td>1.00001.0000</td>\n      <td>1.00001.0000</td>\n      <td>1.1670.8569</td>\n      <td>1.1670.8569</td>\n      <td>1.39920.7147</td>\n      <td>1.39920.7147</td>\n      <td>151.72460.0066</td>\n      <td>151.72460.0066</td>\n      <td>1.29280.7735</td>\n      <td>1.29280.7735</td>\n      <td>1.75180.5708</td>\n      <td>1.75180.5708</td>\n      <td>1.79530.557</td>\n      <td>1.79530.557</td>\n      <td>1.93470.5169</td>\n      <td>1.93470.5169</td>\n      <td>102.61310.0097</td>\n      <td>102.61310.0097</td>\n      <td>20.75590.0482</td>\n      <td>20.75590.0482</td>\n      <td>28.81190.0347</td>\n      <td>28.81190.0347</td>\n      <td>5.13510.1947</td>\n      <td>5.13510.1947</td>\n    </tr>\n    <tr>\n      <th>2</th>\n      <td>NaN</td>\n      <td>1 EUR= Inverse:</td>\n      <td>0.85691.167</td>\n      <td>0.85691.167</td>\n      <td>1.00001.0000</td>\n      <td>1.00001.0000</td>\n      <td>1.1990.834</td>\n      <td>1.1990.834</td>\n      <td>130.01150.0077</td>\n      <td>130.01150.0077</td>\n      <td>1.10780.9027</td>\n      <td>1.10780.9027</td>\n      <td>1.50110.6662</td>\n      <td>1.50110.6662</td>\n      <td>1.53840.65</td>\n      <td>1.53840.65</td>\n      <td>1.65780.6032</td>\n      <td>1.65780.6032</td>\n      <td>87.92830.0114</td>\n      <td>87.92830.0114</td>\n      <td>17.78550.0562</td>\n      <td>17.78550.0562</td>\n      <td>24.68870.0405</td>\n      <td>24.68870.0405</td>\n      <td>4.40020.2273</td>\n      <td>4.40020.2273</td>\n    </tr>\n    <tr>\n      <th>3</th>\n      <td>NaN</td>\n      <td>1 USD= Inverse:</td>\n      <td>0.71471.3992</td>\n      <td>0.71471.3992</td>\n      <td>0.8341.199</td>\n      <td>0.8341.199</td>\n      <td>1.00001.0000</td>\n      <td>1.00001.0000</td>\n      <td>108.43550.0092</td>\n      <td>108.43550.0092</td>\n      <td>0.9241.0823</td>\n      <td>0.9241.0823</td>\n      <td>1.2520.7987</td>\n      <td>1.2520.7987</td>\n      <td>1.28310.7794</td>\n      <td>1.28310.7794</td>\n      <td>1.38270.7232</td>\n      <td>1.38270.7232</td>\n      <td>73.33620.0136</td>\n      <td>73.33620.0136</td>\n      <td>14.8340.0674</td>\n      <td>14.8340.0674</td>\n      <td>20.59150.0486</td>\n      <td>20.59150.0486</td>\n      <td>3.670.2725</td>\n      <td>3.670.2725</td>\n    </tr>\n    <tr>\n      <th>4</th>\n      <td>NaN</td>\n      <td>1 JPY= Inverse:</td>\n      <td>0.0066151.7246</td>\n      <td>0.0066151.7246</td>\n      <td>0.0077130.0115</td>\n      <td>0.0077130.0115</td>\n      <td>0.0092108.4355</td>\n      <td>0.0092108.4355</td>\n      <td>1.00001.0000</td>\n      <td>1.00001.0000</td>\n      <td>0.0085117.3602</td>\n      <td>0.0085117.3602</td>\n      <td>0.011586.6088</td>\n      <td>0.011586.6088</td>\n      <td>0.011884.5104</td>\n      <td>0.011884.5104</td>\n      <td>0.012878.4222</td>\n      <td>0.012878.4222</td>\n      <td>0.67631.4786</td>\n      <td>0.67631.4786</td>\n      <td>0.13687.31</td>\n      <td>0.13687.31</td>\n      <td>0.18995.266</td>\n      <td>0.18995.266</td>\n      <td>0.033829.5465</td>\n      <td>0.033829.5465</td>\n    </tr>\n  </tbody>\n</table>\n</div>"
     },
     "metadata": {},
     "execution_count": 142
    }
   ],
   "source": [
    "currency_rate = currency_rates[0]\n",
    "currency_rate.head()"
   ]
  },
  {
   "cell_type": "code",
   "execution_count": 143,
   "metadata": {},
   "outputs": [
    {
     "output_type": "stream",
     "name": "stdout",
     "text": [
      "<class 'pandas.core.frame.DataFrame'>\nRangeIndex: 13 entries, 0 to 12\nData columns (total 26 columns):\n #   Column  Non-Null Count  Dtype  \n---  ------  --------------  -----  \n 0   0       0 non-null      float64\n 1   1       12 non-null     object \n 2   2       12 non-null     object \n 3   3       13 non-null     object \n 4   4       12 non-null     object \n 5   5       13 non-null     object \n 6   6       12 non-null     object \n 7   7       13 non-null     object \n 8   8       12 non-null     object \n 9   9       13 non-null     object \n 10  10      12 non-null     object \n 11  11      13 non-null     object \n 12  12      12 non-null     object \n 13  13      13 non-null     object \n 14  14      12 non-null     object \n 15  15      13 non-null     object \n 16  16      12 non-null     object \n 17  17      13 non-null     object \n 18  18      12 non-null     object \n 19  19      13 non-null     object \n 20  20      12 non-null     object \n 21  21      13 non-null     object \n 22  22      12 non-null     object \n 23  23      13 non-null     object \n 24  24      12 non-null     object \n 25  25      13 non-null     object \ndtypes: float64(1), object(25)\nmemory usage: 2.8+ KB\n"
     ]
    }
   ],
   "source": [
    "currency_rate.info()"
   ]
  },
  {
   "cell_type": "code",
   "execution_count": null,
   "metadata": {},
   "outputs": [],
   "source": []
  }
 ]
}